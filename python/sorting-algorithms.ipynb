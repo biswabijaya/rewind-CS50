{
  "nbformat": 4,
  "nbformat_minor": 0,
  "metadata": {
    "colab": {
      "provenance": [],
      "toc_visible": true,
      "authorship_tag": "ABX9TyNwsuv+TKnQvoiXYuH1kWPy",
      "include_colab_link": true
    },
    "kernelspec": {
      "name": "python3",
      "display_name": "Python 3"
    },
    "language_info": {
      "name": "python"
    }
  },
  "cells": [
    {
      "cell_type": "markdown",
      "metadata": {
        "id": "view-in-github",
        "colab_type": "text"
      },
      "source": [
        "<a href=\"https://colab.research.google.com/github/biswabijaya/rewind-CS50/blob/biswa/python/sorting-algorithms.ipynb\" target=\"_parent\"><img src=\"https://colab.research.google.com/assets/colab-badge.svg\" alt=\"Open In Colab\"/></a>"
      ]
    },
    {
      "cell_type": "markdown",
      "source": [
        "# Standard input handiling functions"
      ],
      "metadata": {
        "id": "p1w8Qd5CW0MH"
      }
    },
    {
      "cell_type": "code",
      "source": [
        "import random\n",
        "import string\n",
        "\n",
        "# Input Type: This function will keep asking until valid input is received\n",
        "def get_input_choice(type_):\n",
        "    while True:\n",
        "        choice = input(f\"Enter 'M' to manually input {type_} or 'R' for random: \").strip().upper()\n",
        "        if choice in ['M', 'R']:\n",
        "            return choice\n",
        "        else:\n",
        "            print(\"Invalid input. Please enter 'M' or 'R'.\")\n",
        "\n",
        "# Input Number Choices: This function will keep asking until valid input is received\n",
        "def get_numbers(input_choice):\n",
        "    numbers = []  # Initialize the list to collect valid numbers\n",
        "    while len(numbers) < 3:  # The target length for input numbers is 3\n",
        "        try:\n",
        "            if input_choice == 'R':\n",
        "                num_count = int(input(\"How many random numbers do you want? \"))\n",
        "                return [random.randint(10, 99) for _ in range(num_count)]\n",
        "            elif input_choice == 'M':\n",
        "                num_count = int(input(\"How many numbers would you like to input? \"))\n",
        "                while len(numbers) < num_count:  # Keep asking until we have the desired number of valid numbers\n",
        "                    num = input(f\"Enter number {len(numbers) + 1}: \").strip()\n",
        "                    if num.isdigit():  # Check if the input is a valid number\n",
        "                        numbers.append(int(num))  # If valid, append to list\n",
        "                    else:\n",
        "                        print(\"Please enter a valid number. 😒\\nLet's try again. Eg: 1, 22, 33 etc.\")\n",
        "                return numbers\n",
        "        except ValueError:\n",
        "            print(\"Invalid input. Retry.\")\n",
        "\n",
        "# Input Letter Choices: This function will keep asking until valid input is received\n",
        "def get_letters(input_choice):\n",
        "    letters = []  # Initialize the list to collect valid letters\n",
        "    while len(letters) < 3:  # The target length for input letters is 3\n",
        "        try:\n",
        "            if input_choice == 'R':\n",
        "                num_letters = int(input(\"How many random uppercase letters do you want? \"))\n",
        "                return random.choices(string.ascii_uppercase, k=num_letters)\n",
        "            elif input_choice == 'M':\n",
        "                num_letters = int(input(\"How many letters would you like to input? \"))\n",
        "                while len(letters) < num_letters:  # Keep asking until we have the desired number of valid letters\n",
        "                    letter = input(f\"Enter letter {len(letters) + 1}: \").strip().upper()\n",
        "                    if letter in string.ascii_uppercase:  # Check if letter is valid\n",
        "                        letters.append(letter)  # If valid, append to list\n",
        "                    else:\n",
        "                        print(\"Please enter a valid letter. 😒\\nLet's try again. Eg: A, X, Y etc.\")\n",
        "                return letters\n",
        "        except ValueError:\n",
        "            print(\"Invalid input. Retry.\")\n",
        "\n",
        "# Greetings\n",
        "def greetings(type_):\n",
        "    print(f\"Thank You.\\nYou have chosen to see an example with {type_} 👏🏼. Let's explore. \\n\")"
      ],
      "metadata": {
        "id": "CKvRwEywWevc"
      },
      "execution_count": 2,
      "outputs": []
    },
    {
      "cell_type": "markdown",
      "source": [
        "# Time and Space Complexity Calculations"
      ],
      "metadata": {
        "id": "vPgQa6YvbuwD"
      }
    },
    {
      "cell_type": "code",
      "source": [
        "import time\n",
        "import inspect\n",
        "\n",
        "# Function to measure the time and space complexity\n",
        "def measure_time_space(func, arr):\n",
        "    # Get the function name dynamically\n",
        "    func_name = inspect.stack()[1].function\n",
        "\n",
        "    start_time = time.time()  # Start time for performance tracking\n",
        "    func(arr)  # Call the sorting function\n",
        "    end_time = time.time()  # End time for performance tracking\n",
        "\n",
        "    # Calculate time taken\n",
        "    time_taken = end_time - start_time\n",
        "    print(f\"\\nTime Taken ⌛️: {time_taken:.6f} seconds\")\n",
        "\n",
        "    # Space Complexity handling for different algorithms based on function name\n",
        "    if func_name == \"selection_sort\":\n",
        "        print(\"Selection Sort | Space Complexity: O(1) (in-place sorting, only a few variables used)\")\n",
        "    elif func_name == \"bubble_sort\":\n",
        "        print(\"Bubble Sort | Space Complexity: O(1) (in-place sorting, only a few variables used)\")\n",
        "    elif func_name == \"merge_sort\":\n",
        "        print(\"Merge Sort | Space Complexity: O(n) (extra space needed for merging subarrays)\")\n",
        "    elif func_name == \"quick_sort\":\n",
        "        print(\"Quick Sort | Space Complexity: O(log n) (space required for recursive calls)\")\n",
        "    else:\n",
        "        print(\"\")"
      ],
      "metadata": {
        "id": "4T31CnAXbu3Y"
      },
      "execution_count": 3,
      "outputs": []
    },
    {
      "cell_type": "markdown",
      "source": [
        "# Sorting Algos"
      ],
      "metadata": {
        "id": "zF5F4ZXhdXwL"
      }
    },
    {
      "cell_type": "markdown",
      "source": [
        "## Bubble Sort"
      ],
      "metadata": {
        "id": "mdLPEtvbcqRv"
      }
    },
    {
      "cell_type": "code",
      "source": [
        "# Optimized Bubble Sort with Step-by-Step Explanation\n",
        "def bubble_sort(arr):\n",
        "    n = len(arr)\n",
        "    print(f\"\\nApplying Bubble Sort 🙌🏻\\n\\nInitial List:\\n{arr}\")\n",
        "\n",
        "    for i in range(n):\n",
        "        swapped = False  # Flag to optimize\n",
        "\n",
        "        print(f\"\\nPass {i+1}:\")\n",
        "        for j in range(n - i - 1):  # Loop up to the unsorted part\n",
        "\n",
        "            # Swap if necessary\n",
        "            if arr[j] > arr[j+1]:\n",
        "                arr[j], arr[j+1] = arr[j+1], arr[j]\n",
        "                swapped = True\n",
        "\n",
        "            # Format output with underlined swapped elements\n",
        "            formatted_list = [\n",
        "                f\"\\x1B[4m{x}\\x1B[0m\" if k in (j, j+1) else str(x)\n",
        "                for k, x in enumerate(arr)\n",
        "            ]\n",
        "            print(f\"[{', '.join(formatted_list)}]\", \"✅\" if swapped else \"❌\")\n",
        "\n",
        "        if not swapped:  # If no swaps, sorting is complete\n",
        "            print(\"Sorting Complete 😉.\")\n",
        "            break\n",
        "\n",
        "    print(f\"\\nAscending 👇🏻 Bubble Result 😇\\n{arr}\")\n",
        "    # return arr"
      ],
      "metadata": {
        "id": "KArZUPlJWkFo"
      },
      "execution_count": null,
      "outputs": []
    },
    {
      "cell_type": "markdown",
      "source": [
        "## Selection Sort"
      ],
      "metadata": {
        "id": "76lso7J2cuTj"
      }
    },
    {
      "cell_type": "code",
      "source": [
        "# Optimized Selection Sort with Step-by-Step Explanation\n",
        "def selection_sort(arr):\n",
        "    n = len(arr)\n",
        "    print(f\"\\nApplying Selection Sort 🙌🏻\\n\\nInitial List:\\n{arr}\")\n",
        "\n",
        "    for i in range(n):\n",
        "        swapped = False  # Flag to optimize\n",
        "        min_idx = i\n",
        "        print(f\"\\nPass {i+1}:\")\n",
        "        print(f\"i={i}| Cur Min [{min_idx} => {arr[min_idx]}]\")\n",
        "\n",
        "        for j in range(i + 1, n):\n",
        "            if arr[j] < arr[min_idx]:\n",
        "                min_idx = j\n",
        "                swapped = True  # Set flag if a swap occurs\n",
        "                print(f\"j={j}| New Min [{min_idx} => {arr[min_idx]}]\")\n",
        "\n",
        "        # Swap the found minimum element with the first element\n",
        "        if min_idx != i:\n",
        "            arr[i], arr[min_idx] = arr[min_idx], arr[i]\n",
        "            # print(f\"Swap [Item at {i+1} with Item at {min_idx}]\")\n",
        "\n",
        "        # Format output with underlined swapped elements\n",
        "        formatted_list = [\n",
        "            f\"\\x1B[4m{x}\\x1B[0m\" if k in (i, min_idx) else str(x)\n",
        "            for k, x in enumerate(arr)\n",
        "        ]\n",
        "        print(f\"[{', '.join(formatted_list)}]\", \"✅\" if swapped else \"❌\")\n",
        "\n",
        "    print(f\"\\nAscending 👇🏻 Selection Sort Result 😇\\n{arr}\")\n",
        "    # return arr"
      ],
      "metadata": {
        "id": "XHyFdmVpXdCc"
      },
      "execution_count": null,
      "outputs": []
    },
    {
      "cell_type": "markdown",
      "source": [
        "## Merge Sort"
      ],
      "metadata": {
        "id": "gOBxLBumdkx4"
      }
    },
    {
      "cell_type": "code",
      "source": [
        "# Optimized Merge Sort with Step-by-Step Explanation\n",
        "def merge_sort(arr, side=\"L\", depth=0):\n",
        "    if len(arr) > 1:\n",
        "        mid = len(arr) // 2\n",
        "        left_half = arr[:mid]\n",
        "        right_half = arr[mid:]\n",
        "\n",
        "        print(f\"SPLIT😡: {side}{depth}{arr} ===> L{depth+1}{left_half} ⬅️➡️ R{depth+1}{right_half}\")\n",
        "\n",
        "        merge_sort(left_half, \"L\", depth+1)\n",
        "        merge_sort(right_half, \"R\", depth+1)\n",
        "\n",
        "        i = j = k = 0\n",
        "\n",
        "        while i < len(left_half) and j < len(right_half):\n",
        "            if left_half[i] < right_half[j]:\n",
        "                arr[k] = left_half[i]\n",
        "                i += 1\n",
        "            else:\n",
        "                arr[k] = right_half[j]\n",
        "                j += 1\n",
        "            k += 1\n",
        "\n",
        "        while i < len(left_half):\n",
        "            arr[k] = left_half[i]\n",
        "            i += 1\n",
        "            k += 1\n",
        "\n",
        "        while j < len(right_half):\n",
        "            arr[k] = right_half[j]\n",
        "            j += 1\n",
        "            k += 1\n",
        "\n",
        "        print(f\"MERGE😊: {side}{depth}{arr} <=== {side}{depth+1}{left_half} ➡️⬅️ {side}{depth+1}{right_half}\")\n",
        "\n",
        "    print(f\"SORTED✅ {side}{depth}{arr} \", \"☘️\" * len(arr))\n"
      ],
      "metadata": {
        "id": "yeSdRggAd1f5"
      },
      "execution_count": 44,
      "outputs": []
    },
    {
      "cell_type": "markdown",
      "source": [
        "## Quick Sort"
      ],
      "metadata": {
        "id": "c00KIuoqdlDC"
      }
    },
    {
      "cell_type": "code",
      "source": [
        "# Optimized Quick Sort with Step-by-Step Explanation\n",
        "def quick_sort(arr):\n",
        "    if len(arr) <= 1:\n",
        "        return arr  # Base case: already sorted\n",
        "\n",
        "    pivot = arr[len(arr) // 2]  # Choose middle element as pivot\n",
        "    left = [x for x in arr if x < pivot]\n",
        "    middle = [x for x in arr if x == pivot]\n",
        "    right = [x for x in arr if x > pivot]\n",
        "\n",
        "    print(f\"Pivot: {pivot}, Left: {left}, Middle: {middle}, Right: {right}\")\n",
        "\n",
        "    return quick_sort(left) + middle + quick_sort(right)\n"
      ],
      "metadata": {
        "id": "arpunYrmd4hK"
      },
      "execution_count": null,
      "outputs": []
    },
    {
      "cell_type": "markdown",
      "source": [
        "# Main"
      ],
      "metadata": {
        "id": "SAY8LAOFXN2W"
      }
    },
    {
      "cell_type": "code",
      "source": [
        "# Main program\n",
        "print(\"----------Selection Sort Example----------\\n\")\n",
        "\n",
        "# Loop to ensure valid input for choice\n",
        "while True:\n",
        "    choice = input(\"Enter 'L' for random letters or 'N' for random numbers: \").strip().upper()\n",
        "    if choice == 'N':\n",
        "        input_choice = get_input_choice(\"numbers\")\n",
        "        numbers = get_numbers(input_choice)\n",
        "        if numbers:\n",
        "            greetings(\"numbers\")\n",
        "            # measure_time_space(bubble_sort, numbers)\n",
        "            measure_time_space(merge_sort, numbers)\n",
        "        break\n",
        "    elif choice == 'L':\n",
        "        input_choice = get_input_choice(\"letters\")\n",
        "        letters = get_letters(input_choice)\n",
        "        if letters:\n",
        "            greetings(\"letters\")\n",
        "            # measure_time_space(bubble_sort, letters)\n",
        "            measure_time_space(merge_sort, letters)\n",
        "        break\n",
        "    else:\n",
        "        print(\"Invalid choice. Please enter 'L' for letters or 'N' for numbers.\")"
      ],
      "metadata": {
        "colab": {
          "base_uri": "https://localhost:8080/"
        },
        "collapsed": true,
        "id": "zee0SQ-BWRrg",
        "outputId": "83319f61-cba5-40b7-919d-15a87779ca90"
      },
      "execution_count": 45,
      "outputs": [
        {
          "output_type": "stream",
          "name": "stdout",
          "text": [
            "----------Selection Sort Example----------\n",
            "\n",
            "Enter 'L' for random letters or 'N' for random numbers: N\n",
            "Enter 'M' to manually input numbers or 'R' for random: R\n",
            "How many random numbers do you want? 12\n",
            "Thank You.\n",
            "You have chosen to see an example with numbers 👏🏼. Let's explore.\n",
            "SPLIT😡: L0[24, 91, 92, 13, 80, 31, 23, 66, 20, 16, 76, 46] ===> L1[24, 91, 92, 13, 80, 31] ⬅️➡️ R1[23, 66, 20, 16, 76, 46]\n",
            "SPLIT😡: L1[24, 91, 92, 13, 80, 31] ===> L2[24, 91, 92] ⬅️➡️ R2[13, 80, 31]\n",
            "SPLIT😡: L2[24, 91, 92] ===> L3[24] ⬅️➡️ R3[91, 92]\n",
            "SORTED✅ L3[24]  ☘️\n",
            "SPLIT😡: R3[91, 92] ===> L4[91] ⬅️➡️ R4[92]\n",
            "SORTED✅ L4[91]  ☘️\n",
            "SORTED✅ R4[92]  ☘️\n",
            "MERGE😊: R3[91, 92] <=== R4[91] ➡️⬅️ R4[92]\n",
            "SORTED✅ R3[91, 92]  ☘️☘️\n",
            "MERGE😊: L2[24, 91, 92] <=== L3[24] ➡️⬅️ L3[91, 92]\n",
            "SORTED✅ L2[24, 91, 92]  ☘️☘️☘️\n",
            "SPLIT😡: R2[13, 80, 31] ===> L3[13] ⬅️➡️ R3[80, 31]\n",
            "SORTED✅ L3[13]  ☘️\n",
            "SPLIT😡: R3[80, 31] ===> L4[80] ⬅️➡️ R4[31]\n",
            "SORTED✅ L4[80]  ☘️\n",
            "SORTED✅ R4[31]  ☘️\n",
            "MERGE😊: R3[31, 80] <=== R4[80] ➡️⬅️ R4[31]\n",
            "SORTED✅ R3[31, 80]  ☘️☘️\n",
            "MERGE😊: R2[13, 31, 80] <=== R3[13] ➡️⬅️ R3[31, 80]\n",
            "SORTED✅ R2[13, 31, 80]  ☘️☘️☘️\n",
            "MERGE😊: L1[13, 24, 31, 80, 91, 92] <=== L2[24, 91, 92] ➡️⬅️ L2[13, 31, 80]\n",
            "SORTED✅ L1[13, 24, 31, 80, 91, 92]  ☘️☘️☘️☘️☘️☘️\n",
            "SPLIT😡: R1[23, 66, 20, 16, 76, 46] ===> L2[23, 66, 20] ⬅️➡️ R2[16, 76, 46]\n",
            "SPLIT😡: L2[23, 66, 20] ===> L3[23] ⬅️➡️ R3[66, 20]\n",
            "SORTED✅ L3[23]  ☘️\n",
            "SPLIT😡: R3[66, 20] ===> L4[66] ⬅️➡️ R4[20]\n",
            "SORTED✅ L4[66]  ☘️\n",
            "SORTED✅ R4[20]  ☘️\n",
            "MERGE😊: R3[20, 66] <=== R4[66] ➡️⬅️ R4[20]\n",
            "SORTED✅ R3[20, 66]  ☘️☘️\n",
            "MERGE😊: L2[20, 23, 66] <=== L3[23] ➡️⬅️ L3[20, 66]\n",
            "SORTED✅ L2[20, 23, 66]  ☘️☘️☘️\n",
            "SPLIT😡: R2[16, 76, 46] ===> L3[16] ⬅️➡️ R3[76, 46]\n",
            "SORTED✅ L3[16]  ☘️\n",
            "SPLIT😡: R3[76, 46] ===> L4[76] ⬅️➡️ R4[46]\n",
            "SORTED✅ L4[76]  ☘️\n",
            "SORTED✅ R4[46]  ☘️\n",
            "MERGE😊: R3[46, 76] <=== R4[76] ➡️⬅️ R4[46]\n",
            "SORTED✅ R3[46, 76]  ☘️☘️\n",
            "MERGE😊: R2[16, 46, 76] <=== R3[16] ➡️⬅️ R3[46, 76]\n",
            "SORTED✅ R2[16, 46, 76]  ☘️☘️☘️\n",
            "MERGE😊: R1[16, 20, 23, 46, 66, 76] <=== R2[20, 23, 66] ➡️⬅️ R2[16, 46, 76]\n",
            "SORTED✅ R1[16, 20, 23, 46, 66, 76]  ☘️☘️☘️☘️☘️☘️\n",
            "MERGE😊: L0[13, 16, 20, 23, 24, 31, 46, 66, 76, 80, 91, 92] <=== L1[13, 24, 31, 80, 91, 92] ➡️⬅️ L1[16, 20, 23, 46, 66, 76]\n",
            "SORTED✅ L0[13, 16, 20, 23, 24, 31, 46, 66, 76, 80, 91, 92]  ☘️☘️☘️☘️☘️☘️☘️☘️☘️☘️☘️☘️\n",
            "Time Taken: 0.000340 seconds\n",
            "\n"
          ]
        }
      ]
    }
  ]
}