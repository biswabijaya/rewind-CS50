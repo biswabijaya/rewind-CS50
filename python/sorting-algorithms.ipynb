{
  "nbformat": 4,
  "nbformat_minor": 0,
  "metadata": {
    "colab": {
      "provenance": [],
      "toc_visible": true,
      "authorship_tag": "ABX9TyOyAiHVv1DPwdUwckC73LDM",
      "include_colab_link": true
    },
    "kernelspec": {
      "name": "python3",
      "display_name": "Python 3"
    },
    "language_info": {
      "name": "python"
    }
  },
  "cells": [
    {
      "cell_type": "markdown",
      "metadata": {
        "id": "view-in-github",
        "colab_type": "text"
      },
      "source": [
        "<a href=\"https://colab.research.google.com/github/biswabijaya/rewind-CS50/blob/biswa/python/sorting-algorithms.ipynb\" target=\"_parent\"><img src=\"https://colab.research.google.com/assets/colab-badge.svg\" alt=\"Open In Colab\"/></a>"
      ]
    },
    {
      "cell_type": "markdown",
      "source": [
        "# Standard input handiling functions"
      ],
      "metadata": {
        "id": "p1w8Qd5CW0MH"
      }
    },
    {
      "cell_type": "code",
      "source": [
        "import random\n",
        "import string\n",
        "\n",
        "# Input Type: This function will keep asking until valid input is received\n",
        "def get_input_choice(type_):\n",
        "    while True:\n",
        "        choice = input(f\"Enter 'M' to manually input {type_} or 'R' for random: \").strip().upper()\n",
        "        if choice in ['M', 'R']:\n",
        "            return choice\n",
        "        else:\n",
        "            print(\"Invalid input. Please enter 'M' or 'R'.\")\n",
        "\n",
        "# Input Number Choices: This function will keep asking until valid input is received\n",
        "def get_numbers(input_choice):\n",
        "    numbers = []  # Initialize the list to collect valid numbers\n",
        "    while len(numbers) < 3:  # The target length for input numbers is 3\n",
        "        try:\n",
        "            if input_choice == 'R':\n",
        "                num_count = int(input(\"How many random numbers do you want? \"))\n",
        "                return [random.randint(10, 99) for _ in range(num_count)]\n",
        "            elif input_choice == 'M':\n",
        "                num_count = int(input(\"How many numbers would you like to input? \"))\n",
        "                while len(numbers) < num_count:  # Keep asking until we have the desired number of valid numbers\n",
        "                    num = input(f\"Enter number {len(numbers) + 1}: \").strip()\n",
        "                    if num.isdigit():  # Check if the input is a valid number\n",
        "                        numbers.append(int(num))  # If valid, append to list\n",
        "                    else:\n",
        "                        print(\"Please enter a valid number. 😒\\nLet's try again. Eg: 1, 22, 33 etc.\")\n",
        "                return numbers\n",
        "        except ValueError:\n",
        "            print(\"Invalid input. Retry.\")\n",
        "\n",
        "# Input Letter Choices: This function will keep asking until valid input is received\n",
        "def get_letters(input_choice):\n",
        "    letters = []  # Initialize the list to collect valid letters\n",
        "    while len(letters) < 3:  # The target length for input letters is 3\n",
        "        try:\n",
        "            if input_choice == 'R':\n",
        "                num_letters = int(input(\"How many random uppercase letters do you want? \"))\n",
        "                return random.choices(string.ascii_uppercase, k=num_letters)\n",
        "            elif input_choice == 'M':\n",
        "                num_letters = int(input(\"How many letters would you like to input? \"))\n",
        "                while len(letters) < num_letters:  # Keep asking until we have the desired number of valid letters\n",
        "                    letter = input(f\"Enter letter {len(letters) + 1}: \").strip().upper()\n",
        "                    if letter in string.ascii_uppercase:  # Check if letter is valid\n",
        "                        letters.append(letter)  # If valid, append to list\n",
        "                    else:\n",
        "                        print(\"Please enter a valid letter. 😒\\nLet's try again. Eg: A, X, Y etc.\")\n",
        "                return letters\n",
        "        except ValueError:\n",
        "            print(\"Invalid input. Retry.\")\n",
        "\n",
        "# Greetings\n",
        "def greetings(type_, arr_):\n",
        "    print(f\"Thank You.\\nYou have chosen to see an example with {type_} 👏🏼. Let's explore. \\n\")\n",
        "    print(f\"Input Array =====> {arr_}\")"
      ],
      "metadata": {
        "id": "CKvRwEywWevc"
      },
      "execution_count": 4,
      "outputs": []
    },
    {
      "cell_type": "markdown",
      "source": [
        "# Time and Space Complexity Calculations"
      ],
      "metadata": {
        "id": "vPgQa6YvbuwD"
      }
    },
    {
      "cell_type": "code",
      "source": [
        "import time\n",
        "import inspect\n",
        "\n",
        "# Function to measure the time and space complexity\n",
        "def measure_time_space(func, arr_in):\n",
        "    # Get the function name dynamically\n",
        "    func_name = inspect.stack()[1].function\n",
        "\n",
        "    start_time = time.time()  # Start time for performance tracking\n",
        "    arr_out = func(arr_in)  # Call the sorting function\n",
        "    end_time = time.time()  # End time for performance tracking\n",
        "\n",
        "    print(f\"Output Array ====> {arr_out}\")\n",
        "\n",
        "    # Calculate time taken\n",
        "    time_taken = end_time - start_time\n",
        "    print(f\"\\nTime Taken ⌛️: {time_taken:.6f} seconds\")\n",
        "\n",
        "    # Space Complexity handling for different algorithms based on function name\n",
        "    if func_name == \"selection_sort\":\n",
        "        print(\"Selection Sort | Space Complexity: O(1) (in-place sorting, only a few variables used)\")\n",
        "    elif func_name == \"bubble_sort\":\n",
        "        print(\"Bubble Sort | Space Complexity: O(1) (in-place sorting, only a few variables used)\")\n",
        "    elif func_name == \"merge_sort\":\n",
        "        print(\"Merge Sort | Space Complexity: O(n) (extra space needed for merging subarrays)\")\n",
        "    elif func_name == \"quick_sort\":\n",
        "        print(\"Quick Sort | Space Complexity: O(log n) (space required for recursive calls)\")\n",
        "    else:\n",
        "        print(\"\")\n",
        "\n",
        "\n",
        ""
      ],
      "metadata": {
        "id": "4T31CnAXbu3Y"
      },
      "execution_count": 5,
      "outputs": []
    },
    {
      "cell_type": "markdown",
      "source": [
        "# Sorting Algos"
      ],
      "metadata": {
        "id": "zF5F4ZXhdXwL"
      }
    },
    {
      "cell_type": "markdown",
      "source": [
        "## Bubble Sort"
      ],
      "metadata": {
        "id": "mdLPEtvbcqRv"
      }
    },
    {
      "cell_type": "code",
      "source": [
        "# Optimized Bubble Sort with Step-by-Step Explanation\n",
        "def bubble_sort(arr):\n",
        "    n = len(arr)\n",
        "    print(f\"\\nApplying Bubble Sort 🙌🏻\\n\\nInitial List:\\n{arr}\")\n",
        "\n",
        "    for i in range(n):\n",
        "        swapped = False  # Flag to optimize\n",
        "\n",
        "        print(f\"\\nPass {i+1}:\")\n",
        "        for j in range(n - i - 1):  # Loop up to the unsorted part\n",
        "\n",
        "            # Swap if necessary\n",
        "            if arr[j] > arr[j+1]:\n",
        "                arr[j], arr[j+1] = arr[j+1], arr[j]\n",
        "                swapped = True\n",
        "\n",
        "            # Format output with underlined swapped elements\n",
        "            formatted_list = [\n",
        "                f\"\\x1B[4m{x}\\x1B[0m\" if k in (j, j+1) else str(x)\n",
        "                for k, x in enumerate(arr)\n",
        "            ]\n",
        "            print(f\"[{', '.join(formatted_list)}]\", \"✅\" if swapped else \"❌\")\n",
        "\n",
        "        if not swapped:  # If no swaps, sorting is complete\n",
        "            print(\"Sorting Complete 😉.\")\n",
        "            break\n",
        "\n",
        "    print(f\"\\nAscending 👇🏻 Bubble Result 😇\\n{arr}\")\n",
        "    # return arr"
      ],
      "metadata": {
        "id": "KArZUPlJWkFo"
      },
      "execution_count": null,
      "outputs": []
    },
    {
      "cell_type": "markdown",
      "source": [
        "## Selection Sort"
      ],
      "metadata": {
        "id": "76lso7J2cuTj"
      }
    },
    {
      "cell_type": "code",
      "source": [
        "# Optimized Selection Sort with Step-by-Step Explanation\n",
        "def selection_sort(arr):\n",
        "    n = len(arr)\n",
        "    print(f\"\\nApplying Selection Sort 🙌🏻\\n\\nInitial List:\\n{arr}\")\n",
        "\n",
        "    for i in range(n):\n",
        "        swapped = False  # Flag to optimize\n",
        "        min_idx = i\n",
        "        print(f\"\\nPass {i+1}:\")\n",
        "        print(f\"i={i}| Cur Min [{min_idx} => {arr[min_idx]}]\")\n",
        "\n",
        "        for j in range(i + 1, n):\n",
        "            if arr[j] < arr[min_idx]:\n",
        "                min_idx = j\n",
        "                swapped = True  # Set flag if a swap occurs\n",
        "                print(f\"j={j}| New Min [{min_idx} => {arr[min_idx]}]\")\n",
        "\n",
        "        # Swap the found minimum element with the first element\n",
        "        if min_idx != i:\n",
        "            arr[i], arr[min_idx] = arr[min_idx], arr[i]\n",
        "            # print(f\"Swap [Item at {i+1} with Item at {min_idx}]\")\n",
        "\n",
        "        # Format output with underlined swapped elements\n",
        "        formatted_list = [\n",
        "            f\"\\x1B[4m{x}\\x1B[0m\" if k in (i, min_idx) else str(x)\n",
        "            for k, x in enumerate(arr)\n",
        "        ]\n",
        "        print(f\"[{', '.join(formatted_list)}]\", \"✅\" if swapped else \"❌\")\n",
        "\n",
        "    print(f\"\\nAscending 👇🏻 Selection Sort Result 😇\\n{arr}\")\n",
        "    # return arr"
      ],
      "metadata": {
        "id": "XHyFdmVpXdCc"
      },
      "execution_count": null,
      "outputs": []
    },
    {
      "cell_type": "markdown",
      "source": [
        "## Merge Sort"
      ],
      "metadata": {
        "id": "gOBxLBumdkx4"
      }
    },
    {
      "cell_type": "code",
      "source": [
        "# Optimized Merge Sort with Step-by-Step Explanation\n",
        "def merge_sort(arr, side=\"L\", depth=0):\n",
        "    if len(arr) > 1:\n",
        "        mid = len(arr) // 2\n",
        "        left_half = arr[:mid]\n",
        "        right_half = arr[mid:]\n",
        "\n",
        "        print(f\"SPLIT😡: {side}{depth}{arr} ===> L{depth+1}{left_half} ⬅️➡️ R{depth+1}{right_half}\")\n",
        "\n",
        "        merge_sort(left_half, \"L\", depth+1)\n",
        "        merge_sort(right_half, \"R\", depth+1)\n",
        "\n",
        "        i = j = k = 0\n",
        "\n",
        "        while i < len(left_half) and j < len(right_half):\n",
        "            if left_half[i] < right_half[j]:\n",
        "                arr[k] = left_half[i]\n",
        "                i += 1\n",
        "            else:\n",
        "                arr[k] = right_half[j]\n",
        "                j += 1\n",
        "            k += 1\n",
        "\n",
        "        while i < len(left_half):\n",
        "            arr[k] = left_half[i]\n",
        "            i += 1\n",
        "            k += 1\n",
        "\n",
        "        while j < len(right_half):\n",
        "            arr[k] = right_half[j]\n",
        "            j += 1\n",
        "            k += 1\n",
        "\n",
        "        print(f\"MERGE😊: {side}{depth}{arr} <=== {side}{depth+1}{left_half} ➡️⬅️ {side}{depth+1}{right_half}\")\n",
        "\n",
        "    print(f\"SORTED✅ {side}{depth}{arr} \", \"☘️\" * len(arr))\n"
      ],
      "metadata": {
        "id": "yeSdRggAd1f5"
      },
      "execution_count": 44,
      "outputs": []
    },
    {
      "cell_type": "markdown",
      "source": [
        "# Quick Sort"
      ],
      "metadata": {
        "id": "c00KIuoqdlDC"
      }
    },
    {
      "cell_type": "code",
      "source": [
        "# Optimized Quick Sort with Step-by-Step Explanation\n",
        "def quick_sort(arr, side=\"R\", path=\"T\", depth=1):\n",
        "    if len(arr) <= 1:\n",
        "        # print(f\"{path}[]\")  # Print empty bracket for base case\n",
        "        return arr  # Base case: already sorted\n",
        "\n",
        "    pivot = arr[len(arr) // 2]  # Choose middle element as pivot\n",
        "\n",
        "    left = [x for x in arr if x < pivot]\n",
        "    middle = [x for x in arr if x == pivot]\n",
        "    right = [x for x in arr if x > pivot]\n",
        "\n",
        "    sorted = \"✅\" if len(left) <= 1 and len(right) <= 1 else \"🤔\"\n",
        "\n",
        "    print(\"  \" * depth,f\"Depth:{depth-1} | {sorted} Node:{path} | L{depth}{left} {side}P{depth}{middle} R{depth}{right}\")\n",
        "\n",
        "    return quick_sort(left, \"L\", path + \"L\" + str(depth), depth+1) + middle + quick_sort(right, \"R\", path + \"R\" + str(depth), depth+1)\n"
      ],
      "metadata": {
        "id": "arpunYrmd4hK"
      },
      "execution_count": 64,
      "outputs": []
    },
    {
      "cell_type": "markdown",
      "source": [
        "# Main"
      ],
      "metadata": {
        "id": "SAY8LAOFXN2W"
      }
    },
    {
      "cell_type": "code",
      "source": [
        "# Main program\n",
        "# Loop to ensure valid input for choice\n",
        "while True:\n",
        "    choice = input(\"Enter 'L' for random letters or 'N' for random numbers: \").strip().upper()\n",
        "    if choice == 'N':\n",
        "        input_choice = get_input_choice(\"numbers\")\n",
        "        numbers = get_numbers(input_choice)\n",
        "        if numbers:\n",
        "            greetings(\"numbers\", numbers)\n",
        "            # measure_time_space(bubble_sort, numbers)\n",
        "            measure_time_space(quick_sort, numbers)\n",
        "        break\n",
        "    elif choice == 'L':\n",
        "        input_choice = get_input_choice(\"letters\")\n",
        "        letters = get_letters(input_choice)\n",
        "        if letters:\n",
        "            greetings(\"letters\", letters)\n",
        "            # measure_time_space(bubble_sort, letters)\n",
        "            measure_time_space(quick_sort, letters)\n",
        "        break\n",
        "    else:\n",
        "        print(\"Invalid choice. Please enter 'L' for letters or 'N' for numbers.\")"
      ],
      "metadata": {
        "colab": {
          "base_uri": "https://localhost:8080/"
        },
        "collapsed": true,
        "id": "zee0SQ-BWRrg",
        "outputId": "d51ed014-668e-4c98-c159-c8798de6ccd1"
      },
      "execution_count": 65,
      "outputs": [
        {
          "output_type": "stream",
          "name": "stdout",
          "text": [
            "----------Selection Sort Example----------\n",
            "\n",
            "Enter 'L' for random letters or 'N' for random numbers: n\n",
            "Enter 'M' to manually input numbers or 'R' for random: r\n",
            "How many random numbers do you want? 678\n",
            "Thank You.\n",
            "You have chosen to see an example with numbers 👏🏼. Let's explore. \n",
            "\n",
            "Input Array =====> [78, 44, 77, 40, 18, 95, 92, 72, 19, 45, 65, 31, 77, 18, 24, 14, 71, 28, 38, 97, 41, 57, 37, 41, 55, 42, 27, 85, 43, 52, 81, 59, 57, 33, 86, 24, 16, 96, 42, 77, 49, 87, 45, 41, 11, 99, 76, 58, 59, 68, 17, 16, 37, 34, 59, 15, 23, 38, 94, 28, 97, 10, 98, 59, 23, 86, 26, 30, 44, 23, 75, 35, 34, 52, 55, 86, 31, 30, 94, 46, 63, 96, 36, 51, 45, 91, 94, 26, 66, 49, 68, 36, 62, 50, 14, 38, 83, 49, 39, 12, 84, 75, 76, 20, 48, 23, 73, 72, 40, 14, 36, 45, 37, 12, 60, 75, 28, 46, 41, 14, 95, 88, 29, 53, 10, 64, 33, 34, 20, 59, 90, 63, 54, 85, 49, 24, 96, 58, 42, 46, 38, 77, 26, 88, 34, 39, 79, 51, 40, 67, 49, 89, 36, 80, 11, 91, 59, 77, 61, 17, 54, 32, 20, 83, 17, 95, 25, 51, 25, 33, 48, 47, 89, 57, 55, 68, 51, 19, 64, 27, 65, 82, 20, 92, 59, 54, 40, 56, 44, 65, 52, 80, 29, 69, 69, 16, 79, 62, 47, 20, 51, 17, 73, 96, 80, 16, 92, 21, 21, 30, 44, 86, 81, 27, 44, 90, 47, 77, 80, 52, 16, 38, 59, 78, 74, 83, 32, 52, 52, 31, 98, 92, 13, 80, 56, 37, 14, 73, 66, 55, 30, 57, 57, 46, 15, 47, 95, 49, 11, 45, 95, 13, 44, 35, 99, 63, 98, 96, 30, 97, 82, 80, 14, 57, 39, 84, 16, 42, 38, 39, 19, 34, 75, 47, 88, 64, 45, 93, 36, 71, 18, 19, 91, 55, 71, 89, 91, 56, 79, 36, 19, 73, 62, 37, 23, 20, 33, 77, 85, 33, 39, 34, 47, 15, 83, 65, 51, 86, 89, 28, 38, 74, 10, 92, 40, 95, 27, 60, 67, 42, 37, 41, 55, 27, 67, 21, 24, 77, 53, 13, 24, 99, 52, 49, 73, 89, 32, 68, 23, 48, 55, 10, 74, 43, 70, 78, 30, 18, 90, 78, 80, 48, 16, 53, 93, 57, 81, 32, 63, 22, 60, 83, 36, 81, 49, 44, 50, 24, 84, 41, 24, 28, 24, 55, 37, 87, 24, 66, 85, 38, 83, 15, 81, 88, 24, 85, 28, 85, 88, 77, 45, 41, 89, 21, 10, 34, 85, 53, 17, 35, 60, 69, 14, 12, 60, 72, 22, 59, 98, 99, 26, 35, 40, 52, 90, 39, 63, 11, 76, 73, 12, 94, 26, 81, 76, 23, 62, 49, 31, 80, 65, 90, 96, 21, 33, 31, 62, 22, 17, 90, 43, 33, 84, 38, 45, 48, 67, 39, 77, 80, 21, 35, 41, 84, 43, 74, 38, 61, 31, 15, 67, 43, 25, 15, 20, 53, 10, 30, 21, 40, 69, 65, 94, 11, 57, 23, 17, 51, 22, 56, 82, 40, 32, 74, 34, 70, 15, 74, 11, 54, 35, 82, 68, 83, 76, 75, 37, 93, 75, 28, 45, 47, 83, 50, 63, 35, 74, 54, 25, 54, 25, 66, 56, 20, 69, 67, 33, 86, 24, 79, 81, 78, 43, 65, 12, 59, 52, 20, 12, 85, 42, 85, 32, 57, 67, 73, 75, 34, 43, 65, 92, 38, 17, 49, 98, 17, 16, 65, 75, 71, 40, 14, 23, 79, 88, 57, 82, 26, 61, 79, 86, 15, 29, 18, 29, 47, 61, 54, 38, 47, 98, 36, 88, 20, 29, 98, 31, 20, 93, 50, 55, 92, 23, 88, 72, 21, 11, 52, 35, 40, 89, 13, 45, 47, 92, 48, 85, 47, 88, 46, 88, 84, 70, 80, 43, 61, 16, 74, 70, 89, 61, 85, 31, 40, 21, 12, 99, 42, 71, 80, 13, 51, 82, 89, 21, 82, 78, 94, 18, 36, 56, 28, 44, 22, 16, 25, 29, 21, 80, 58, 49, 66, 59, 74, 30, 44, 76, 83, 94, 58, 63, 42, 60, 92, 67, 20, 59, 78, 13, 21, 48, 56, 95, 64, 86, 14, 14, 43, 42, 50, 78, 17, 26, 79, 24, 18, 54, 99]\n",
            "   Depth:0 | 🤔 Node:T | L1[44, 40, 18, 19, 45, 31, 18, 24, 14, 28, 38, 41, 37, 41, 42, 27, 43, 33, 24, 16, 42, 45, 41, 11, 17, 16, 37, 34, 15, 23, 38, 28, 10, 23, 26, 30, 44, 23, 35, 34, 31, 30, 46, 36, 45, 26, 36, 14, 38, 39, 12, 20, 23, 40, 14, 36, 45, 37, 12, 28, 46, 41, 14, 29, 10, 33, 34, 20, 24, 42, 46, 38, 26, 34, 39, 40, 36, 11, 17, 32, 20, 17, 25, 25, 33, 47, 19, 27, 20, 40, 44, 29, 16, 47, 20, 17, 16, 21, 21, 30, 44, 27, 44, 47, 16, 38, 32, 31, 13, 37, 14, 30, 46, 15, 47, 11, 45, 13, 44, 35, 30, 14, 39, 16, 42, 38, 39, 19, 34, 47, 45, 36, 18, 19, 36, 19, 37, 23, 20, 33, 33, 39, 34, 47, 15, 28, 38, 10, 40, 27, 42, 37, 41, 27, 21, 24, 13, 24, 32, 23, 10, 43, 30, 18, 16, 32, 22, 36, 44, 24, 41, 24, 28, 24, 37, 24, 38, 15, 24, 28, 45, 41, 21, 10, 34, 17, 35, 14, 12, 22, 26, 35, 40, 39, 11, 12, 26, 23, 31, 21, 33, 31, 22, 17, 43, 33, 38, 45, 39, 21, 35, 41, 43, 38, 31, 15, 43, 25, 15, 20, 10, 30, 21, 40, 11, 23, 17, 22, 40, 32, 34, 15, 11, 35, 37, 28, 45, 47, 35, 25, 25, 20, 33, 24, 43, 12, 20, 12, 42, 32, 34, 43, 38, 17, 17, 16, 40, 14, 23, 26, 15, 29, 18, 29, 47, 38, 47, 36, 20, 29, 31, 20, 23, 21, 11, 35, 40, 13, 45, 47, 47, 46, 43, 16, 31, 40, 21, 12, 42, 13, 21, 18, 36, 28, 44, 22, 16, 25, 29, 21, 30, 44, 42, 20, 13, 21, 14, 14, 43, 42, 17, 26, 24, 18] RP1[48, 48, 48, 48, 48, 48, 48] R1[78, 77, 95, 92, 72, 65, 77, 71, 97, 57, 55, 85, 52, 81, 59, 57, 86, 96, 77, 49, 87, 99, 76, 58, 59, 68, 59, 94, 97, 98, 59, 86, 75, 52, 55, 86, 94, 63, 96, 51, 91, 94, 66, 49, 68, 62, 50, 83, 49, 84, 75, 76, 73, 72, 60, 75, 95, 88, 53, 64, 59, 90, 63, 54, 85, 49, 96, 58, 77, 88, 79, 51, 67, 49, 89, 80, 91, 59, 77, 61, 54, 83, 95, 51, 89, 57, 55, 68, 51, 64, 65, 82, 92, 59, 54, 56, 65, 52, 80, 69, 69, 79, 62, 51, 73, 96, 80, 92, 86, 81, 90, 77, 80, 52, 59, 78, 74, 83, 52, 52, 98, 92, 80, 56, 73, 66, 55, 57, 57, 95, 49, 95, 99, 63, 98, 96, 97, 82, 80, 57, 84, 75, 88, 64, 93, 71, 91, 55, 71, 89, 91, 56, 79, 73, 62, 77, 85, 83, 65, 51, 86, 89, 74, 92, 95, 60, 67, 55, 67, 77, 53, 99, 52, 49, 73, 89, 68, 55, 74, 70, 78, 90, 78, 80, 53, 93, 57, 81, 63, 60, 83, 81, 49, 50, 84, 55, 87, 66, 85, 83, 81, 88, 85, 85, 88, 77, 89, 85, 53, 60, 69, 60, 72, 59, 98, 99, 52, 90, 63, 76, 73, 94, 81, 76, 62, 49, 80, 65, 90, 96, 62, 90, 84, 67, 77, 80, 84, 74, 61, 67, 53, 69, 65, 94, 57, 51, 56, 82, 74, 70, 74, 54, 82, 68, 83, 76, 75, 93, 75, 83, 50, 63, 74, 54, 54, 66, 56, 69, 67, 86, 79, 81, 78, 65, 59, 52, 85, 85, 57, 67, 73, 75, 65, 92, 49, 98, 65, 75, 71, 79, 88, 57, 82, 61, 79, 86, 61, 54, 98, 88, 98, 93, 50, 55, 92, 88, 72, 52, 89, 92, 85, 88, 88, 84, 70, 80, 61, 74, 70, 89, 61, 85, 99, 71, 80, 51, 82, 89, 82, 78, 94, 56, 80, 58, 49, 66, 59, 74, 76, 83, 94, 58, 63, 60, 92, 67, 59, 78, 56, 95, 64, 86, 50, 78, 79, 54, 99]\n",
            "     Depth:1 | 🤔 Node:TL1 | L2[18, 19, 18, 14, 16, 11, 17, 16, 15, 23, 10, 23, 23, 14, 12, 20, 23, 14, 12, 14, 10, 20, 11, 17, 20, 17, 19, 20, 16, 20, 17, 16, 21, 21, 16, 13, 14, 15, 11, 13, 14, 16, 19, 18, 19, 19, 23, 20, 15, 10, 21, 13, 23, 10, 18, 16, 22, 15, 21, 10, 17, 14, 12, 22, 11, 12, 23, 21, 22, 17, 21, 15, 15, 20, 10, 21, 11, 23, 17, 22, 15, 11, 20, 12, 20, 12, 17, 17, 16, 14, 23, 15, 18, 20, 20, 23, 21, 11, 13, 16, 21, 12, 13, 21, 18, 22, 16, 21, 20, 13, 21, 14, 14, 17, 18] LP2[24, 24, 24, 24, 24, 24, 24, 24, 24, 24, 24, 24] R2[44, 40, 45, 31, 28, 38, 41, 37, 41, 42, 27, 43, 33, 42, 45, 41, 37, 34, 38, 28, 26, 30, 44, 35, 34, 31, 30, 46, 36, 45, 26, 36, 38, 39, 40, 36, 45, 37, 28, 46, 41, 29, 33, 34, 42, 46, 38, 26, 34, 39, 40, 36, 32, 25, 25, 33, 47, 27, 40, 44, 29, 47, 30, 44, 27, 44, 47, 38, 32, 31, 37, 30, 46, 47, 45, 44, 35, 30, 39, 42, 38, 39, 34, 47, 45, 36, 36, 37, 33, 33, 39, 34, 47, 28, 38, 40, 27, 42, 37, 41, 27, 32, 43, 30, 32, 36, 44, 41, 28, 37, 38, 28, 45, 41, 34, 35, 26, 35, 40, 39, 26, 31, 33, 31, 43, 33, 38, 45, 39, 35, 41, 43, 38, 31, 43, 25, 30, 40, 40, 32, 34, 35, 37, 28, 45, 47, 35, 25, 25, 33, 43, 42, 32, 34, 43, 38, 40, 26, 29, 29, 47, 38, 47, 36, 29, 31, 35, 40, 45, 47, 47, 46, 43, 31, 40, 42, 36, 28, 44, 25, 29, 30, 44, 42, 43, 42, 26]\n",
            "       Depth:2 | 🤔 Node:TL1L2 | L3[14, 11, 10, 14, 12, 14, 12, 14, 10, 11, 13, 14, 11, 13, 14, 10, 13, 10, 10, 14, 12, 11, 12, 10, 11, 11, 12, 12, 14, 11, 13, 12, 13, 13, 14, 14] LP3[15, 15, 15, 15, 15, 15, 15, 15] R3[18, 19, 18, 16, 17, 16, 23, 23, 23, 20, 23, 20, 17, 20, 17, 19, 20, 16, 20, 17, 16, 21, 21, 16, 16, 19, 18, 19, 19, 23, 20, 21, 23, 18, 16, 22, 21, 17, 22, 23, 21, 22, 17, 21, 20, 21, 23, 17, 22, 20, 20, 17, 17, 16, 23, 18, 20, 20, 23, 21, 16, 21, 21, 18, 22, 16, 21, 20, 21, 17, 18]\n",
            "         Depth:3 | 🤔 Node:TL1L2L3 | L4[] LP4[10, 10, 10, 10, 10, 10] R4[14, 11, 14, 12, 14, 12, 14, 11, 13, 14, 11, 13, 14, 13, 14, 12, 11, 12, 11, 11, 12, 12, 14, 11, 13, 12, 13, 13, 14, 14]\n",
            "           Depth:4 | 🤔 Node:TL1L2L3R4 | L5[11, 11, 11, 11, 11, 11, 11] RP5[12, 12, 12, 12, 12, 12, 12] R5[14, 14, 14, 14, 13, 14, 13, 14, 13, 14, 14, 13, 13, 13, 14, 14]\n",
            "             Depth:5 | ✅ Node:TL1L2L3R4L5 | L6[] LP6[11, 11, 11, 11, 11, 11, 11] R6[]\n",
            "             Depth:5 | 🤔 Node:TL1L2L3R4R5 | L6[] RP6[13, 13, 13, 13, 13, 13] R6[14, 14, 14, 14, 14, 14, 14, 14, 14, 14]\n",
            "               Depth:6 | ✅ Node:TL1L2L3R4R5R6 | L7[] RP7[14, 14, 14, 14, 14, 14, 14, 14, 14, 14] R7[]\n",
            "         Depth:3 | 🤔 Node:TL1L2R3 | L4[18, 19, 18, 16, 17, 16, 20, 20, 17, 20, 17, 19, 20, 16, 20, 17, 16, 21, 21, 16, 16, 19, 18, 19, 19, 20, 21, 18, 16, 21, 17, 21, 17, 21, 20, 21, 17, 20, 20, 17, 17, 16, 18, 20, 20, 21, 16, 21, 21, 18, 16, 21, 20, 21, 17, 18] RP4[22, 22, 22, 22, 22] R4[23, 23, 23, 23, 23, 23, 23, 23, 23, 23]\n",
            "           Depth:4 | 🤔 Node:TL1L2R3L4 | L5[] LP5[16, 16, 16, 16, 16, 16, 16, 16, 16, 16] R5[18, 19, 18, 17, 20, 20, 17, 20, 17, 19, 20, 20, 17, 21, 21, 19, 18, 19, 19, 20, 21, 18, 21, 17, 21, 17, 21, 20, 21, 17, 20, 20, 17, 17, 18, 20, 20, 21, 21, 21, 18, 21, 20, 21, 17, 18]\n",
            "             Depth:5 | 🤔 Node:TL1L2R3L4R5 | L6[] RP6[17, 17, 17, 17, 17, 17, 17, 17, 17, 17] R6[18, 19, 18, 20, 20, 20, 19, 20, 20, 21, 21, 19, 18, 19, 19, 20, 21, 18, 21, 21, 21, 20, 21, 20, 20, 18, 20, 20, 21, 21, 21, 18, 21, 20, 21, 18]\n",
            "               Depth:6 | 🤔 Node:TL1L2R3L4R5R6 | L7[18, 19, 18, 20, 20, 20, 19, 20, 20, 19, 18, 19, 19, 20, 18, 20, 20, 20, 18, 20, 20, 18, 20, 18] RP7[21, 21, 21, 21, 21, 21, 21, 21, 21, 21, 21, 21] R7[]\n",
            "                 Depth:7 | 🤔 Node:TL1L2R3L4R5R6L7 | L8[18, 18, 18, 18, 18, 18, 18] LP8[19, 19, 19, 19, 19] R8[20, 20, 20, 20, 20, 20, 20, 20, 20, 20, 20, 20]\n",
            "                   Depth:8 | ✅ Node:TL1L2R3L4R5R6L7L8 | L9[] LP9[18, 18, 18, 18, 18, 18, 18] R9[]\n",
            "                   Depth:8 | ✅ Node:TL1L2R3L4R5R6L7R8 | L9[] RP9[20, 20, 20, 20, 20, 20, 20, 20, 20, 20, 20, 20] R9[]\n",
            "           Depth:4 | ✅ Node:TL1L2R3R4 | L5[] RP5[23, 23, 23, 23, 23, 23, 23, 23, 23, 23] R5[]\n",
            "       Depth:2 | 🤔 Node:TL1R2 | L3[27, 26, 26, 26, 25, 25, 27, 27, 27, 27, 26, 26, 25, 25, 25, 26, 25, 26] RP3[28, 28, 28, 28, 28, 28, 28, 28] R3[44, 40, 45, 31, 38, 41, 37, 41, 42, 43, 33, 42, 45, 41, 37, 34, 38, 30, 44, 35, 34, 31, 30, 46, 36, 45, 36, 38, 39, 40, 36, 45, 37, 46, 41, 29, 33, 34, 42, 46, 38, 34, 39, 40, 36, 32, 33, 47, 40, 44, 29, 47, 30, 44, 44, 47, 38, 32, 31, 37, 30, 46, 47, 45, 44, 35, 30, 39, 42, 38, 39, 34, 47, 45, 36, 36, 37, 33, 33, 39, 34, 47, 38, 40, 42, 37, 41, 32, 43, 30, 32, 36, 44, 41, 37, 38, 45, 41, 34, 35, 35, 40, 39, 31, 33, 31, 43, 33, 38, 45, 39, 35, 41, 43, 38, 31, 43, 30, 40, 40, 32, 34, 35, 37, 45, 47, 35, 33, 43, 42, 32, 34, 43, 38, 40, 29, 29, 47, 38, 47, 36, 29, 31, 35, 40, 45, 47, 47, 46, 43, 31, 40, 42, 36, 44, 29, 30, 44, 42, 43, 42]\n",
            "         Depth:3 | 🤔 Node:TL1R2L3 | L4[26, 26, 26, 25, 25, 26, 26, 25, 25, 25, 26, 25, 26] LP4[27, 27, 27, 27, 27] R4[]\n",
            "           Depth:4 | 🤔 Node:TL1R2L3L4 | L5[25, 25, 25, 25, 25, 25] LP5[26, 26, 26, 26, 26, 26, 26] R5[]\n",
            "             Depth:5 | ✅ Node:TL1R2L3L4L5 | L6[] LP6[25, 25, 25, 25, 25, 25] R6[]\n",
            "         Depth:3 | 🤔 Node:TL1R2R3 | L4[31, 33, 30, 31, 30, 29, 33, 32, 33, 29, 30, 32, 31, 30, 30, 33, 33, 32, 30, 32, 31, 33, 31, 33, 31, 30, 32, 33, 32, 29, 29, 29, 31, 31, 29, 30] RP4[34, 34, 34, 34, 34, 34, 34, 34, 34] R4[44, 40, 45, 38, 41, 37, 41, 42, 43, 42, 45, 41, 37, 38, 44, 35, 46, 36, 45, 36, 38, 39, 40, 36, 45, 37, 46, 41, 42, 46, 38, 39, 40, 36, 47, 40, 44, 47, 44, 44, 47, 38, 37, 46, 47, 45, 44, 35, 39, 42, 38, 39, 47, 45, 36, 36, 37, 39, 47, 38, 40, 42, 37, 41, 43, 36, 44, 41, 37, 38, 45, 41, 35, 35, 40, 39, 43, 38, 45, 39, 35, 41, 43, 38, 43, 40, 40, 35, 37, 45, 47, 35, 43, 42, 43, 38, 40, 47, 38, 47, 36, 35, 40, 45, 47, 47, 46, 43, 40, 42, 36, 44, 44, 42, 43, 42]\n",
            "           Depth:4 | 🤔 Node:TL1R2R3L4 | L5[29, 29, 29, 29, 29, 29] LP5[30, 30, 30, 30, 30, 30, 30, 30] R5[31, 33, 31, 33, 32, 33, 32, 31, 33, 33, 32, 32, 31, 33, 31, 33, 31, 32, 33, 32, 31, 31]\n",
            "             Depth:5 | ✅ Node:TL1R2R3L4L5 | L6[] LP6[29, 29, 29, 29, 29, 29] R6[]\n",
            "             Depth:5 | 🤔 Node:TL1R2R3L4R5 | L6[31, 31, 31, 31, 31, 31, 31, 31] RP6[32, 32, 32, 32, 32, 32] R6[33, 33, 33, 33, 33, 33, 33, 33]\n",
            "               Depth:6 | ✅ Node:TL1R2R3L4R5L6 | L7[] LP7[31, 31, 31, 31, 31, 31, 31, 31] R7[]\n",
            "               Depth:6 | ✅ Node:TL1R2R3L4R5R6 | L7[] RP7[33, 33, 33, 33, 33, 33, 33, 33] R7[]\n",
            "           Depth:4 | 🤔 Node:TL1R2R3R4 | L5[44, 40, 45, 38, 41, 37, 41, 42, 43, 42, 45, 41, 37, 38, 44, 35, 46, 36, 45, 36, 38, 39, 40, 36, 45, 37, 46, 41, 42, 46, 38, 39, 40, 36, 40, 44, 44, 44, 38, 37, 46, 45, 44, 35, 39, 42, 38, 39, 45, 36, 36, 37, 39, 38, 40, 42, 37, 41, 43, 36, 44, 41, 37, 38, 45, 41, 35, 35, 40, 39, 43, 38, 45, 39, 35, 41, 43, 38, 43, 40, 40, 35, 37, 45, 35, 43, 42, 43, 38, 40, 38, 36, 35, 40, 45, 46, 43, 40, 42, 36, 44, 44, 42, 43, 42] RP5[47, 47, 47, 47, 47, 47, 47, 47, 47, 47, 47] R5[]\n",
            "             Depth:5 | 🤔 Node:TL1R2R3R4L5 | L6[38, 37, 37, 38, 35, 36, 36, 38, 36, 37, 38, 36, 38, 37, 35, 38, 36, 36, 37, 38, 37, 36, 37, 38, 35, 35, 38, 35, 38, 35, 37, 35, 38, 38, 36, 35, 36] LP6[39, 39, 39, 39, 39, 39, 39] R6[44, 40, 45, 41, 41, 42, 43, 42, 45, 41, 44, 46, 45, 40, 45, 46, 41, 42, 46, 40, 40, 44, 44, 44, 46, 45, 44, 42, 45, 40, 42, 41, 43, 44, 41, 45, 41, 40, 43, 45, 41, 43, 43, 40, 40, 45, 43, 42, 43, 40, 40, 45, 46, 43, 40, 42, 44, 44, 42, 43, 42]\n",
            "               Depth:6 | 🤔 Node:TL1R2R3R4L5L6 | L7[35, 36, 36, 36, 36, 35, 36, 36, 36, 35, 35, 35, 35, 35, 36, 35, 36] LP7[37, 37, 37, 37, 37, 37, 37, 37] R7[38, 38, 38, 38, 38, 38, 38, 38, 38, 38, 38, 38]\n",
            "                 Depth:7 | 🤔 Node:TL1R2R3R4L5L6L7 | L8[35, 35, 35, 35, 35, 35, 35, 35] LP8[36, 36, 36, 36, 36, 36, 36, 36, 36] R8[]\n",
            "                   Depth:8 | ✅ Node:TL1R2R3R4L5L6L7L8 | L9[] LP9[35, 35, 35, 35, 35, 35, 35, 35] R9[]\n",
            "                 Depth:7 | ✅ Node:TL1R2R3R4L5L6R7 | L8[] RP8[38, 38, 38, 38, 38, 38, 38, 38, 38, 38, 38, 38] R8[]\n",
            "               Depth:6 | 🤔 Node:TL1R2R3R4L5R6 | L7[40, 41, 41, 41, 40, 41, 40, 40, 40, 41, 41, 41, 40, 41, 40, 40, 40, 40, 40] RP7[42, 42, 42, 42, 42, 42, 42, 42, 42] R7[44, 45, 43, 45, 44, 46, 45, 45, 46, 46, 44, 44, 44, 46, 45, 44, 45, 43, 44, 45, 43, 45, 43, 43, 45, 43, 43, 45, 46, 43, 44, 44, 43]\n",
            "                 Depth:7 | 🤔 Node:TL1R2R3R4L5R6L7 | L8[40, 40, 40, 40, 40, 40, 40, 40, 40, 40, 40] LP8[41, 41, 41, 41, 41, 41, 41, 41] R8[]\n",
            "                   Depth:8 | ✅ Node:TL1R2R3R4L5R6L7L8 | L9[] LP9[40, 40, 40, 40, 40, 40, 40, 40, 40, 40, 40] R9[]\n",
            "                 Depth:7 | 🤔 Node:TL1R2R3R4L5R6R7 | L8[44, 43, 44, 44, 44, 44, 44, 43, 44, 43, 43, 43, 43, 43, 43, 44, 44, 43] RP8[45, 45, 45, 45, 45, 45, 45, 45, 45, 45] R8[46, 46, 46, 46, 46]\n",
            "                   Depth:8 | 🤔 Node:TL1R2R3R4L5R6R7L8 | L9[] LP9[43, 43, 43, 43, 43, 43, 43, 43, 43] R9[44, 44, 44, 44, 44, 44, 44, 44, 44]\n",
            "                     Depth:9 | ✅ Node:TL1R2R3R4L5R6R7L8R9 | L10[] RP10[44, 44, 44, 44, 44, 44, 44, 44, 44] R10[]\n",
            "                   Depth:8 | ✅ Node:TL1R2R3R4L5R6R7R8 | L9[] RP9[46, 46, 46, 46, 46] R9[]\n",
            "     Depth:1 | 🤔 Node:TR1 | L2[72, 65, 71, 57, 55, 52, 59, 57, 49, 58, 59, 68, 59, 59, 52, 55, 63, 51, 66, 49, 68, 62, 50, 49, 73, 72, 60, 53, 64, 59, 63, 54, 49, 58, 51, 67, 49, 59, 61, 54, 51, 57, 55, 68, 51, 64, 65, 59, 54, 56, 65, 52, 69, 69, 62, 51, 73, 52, 59, 52, 52, 56, 73, 66, 55, 57, 57, 49, 63, 57, 64, 71, 55, 71, 56, 73, 62, 65, 51, 60, 67, 55, 67, 53, 52, 49, 73, 68, 55, 70, 53, 57, 63, 60, 49, 50, 55, 66, 53, 60, 69, 60, 72, 59, 52, 63, 73, 62, 49, 65, 62, 67, 61, 67, 53, 69, 65, 57, 51, 56, 70, 54, 68, 50, 63, 54, 54, 66, 56, 69, 67, 65, 59, 52, 57, 67, 73, 65, 49, 65, 71, 57, 61, 61, 54, 50, 55, 72, 52, 70, 61, 70, 61, 71, 51, 56, 58, 49, 66, 59, 58, 63, 60, 67, 59, 56, 64, 50, 54] RP2[74, 74, 74, 74, 74, 74, 74, 74, 74] R2[78, 77, 95, 92, 77, 97, 85, 81, 86, 96, 77, 87, 99, 76, 94, 97, 98, 86, 75, 86, 94, 96, 91, 94, 83, 84, 75, 76, 75, 95, 88, 90, 85, 96, 77, 88, 79, 89, 80, 91, 77, 83, 95, 89, 82, 92, 80, 79, 96, 80, 92, 86, 81, 90, 77, 80, 78, 83, 98, 92, 80, 95, 95, 99, 98, 96, 97, 82, 80, 84, 75, 88, 93, 91, 89, 91, 79, 77, 85, 83, 86, 89, 92, 95, 77, 99, 89, 78, 90, 78, 80, 93, 81, 83, 81, 84, 87, 85, 83, 81, 88, 85, 85, 88, 77, 89, 85, 98, 99, 90, 76, 94, 81, 76, 80, 90, 96, 90, 84, 77, 80, 84, 94, 82, 82, 83, 76, 75, 93, 75, 83, 86, 79, 81, 78, 85, 85, 75, 92, 98, 75, 79, 88, 82, 79, 86, 98, 88, 98, 93, 92, 88, 89, 92, 85, 88, 88, 84, 80, 89, 85, 99, 80, 82, 89, 82, 78, 94, 80, 76, 83, 94, 92, 78, 95, 86, 78, 79, 99]\n",
            "       Depth:2 | 🤔 Node:TR1L2 | L3[49, 51, 49, 50, 49, 49, 51, 49, 51, 51, 51, 49, 51, 49, 49, 50, 49, 51, 50, 49, 50, 51, 49, 50] LP3[52, 52, 52, 52, 52, 52, 52, 52, 52, 52] R3[72, 65, 71, 57, 55, 59, 57, 58, 59, 68, 59, 59, 55, 63, 66, 68, 62, 73, 72, 60, 53, 64, 59, 63, 54, 58, 67, 59, 61, 54, 57, 55, 68, 64, 65, 59, 54, 56, 65, 69, 69, 62, 73, 59, 56, 73, 66, 55, 57, 57, 63, 57, 64, 71, 55, 71, 56, 73, 62, 65, 60, 67, 55, 67, 53, 73, 68, 55, 70, 53, 57, 63, 60, 55, 66, 53, 60, 69, 60, 72, 59, 63, 73, 62, 65, 62, 67, 61, 67, 53, 69, 65, 57, 56, 70, 54, 68, 63, 54, 54, 66, 56, 69, 67, 65, 59, 57, 67, 73, 65, 65, 71, 57, 61, 61, 54, 55, 72, 70, 61, 70, 61, 71, 56, 58, 66, 59, 58, 63, 60, 67, 59, 56, 64, 54]\n",
            "         Depth:3 | 🤔 Node:TR1L2L3 | L4[49, 49, 50, 49, 49, 49, 49, 49, 49, 50, 49, 50, 49, 50, 49, 50] LP4[51, 51, 51, 51, 51, 51, 51, 51] R4[]\n",
            "           Depth:4 | 🤔 Node:TR1L2L3L4 | L5[] LP5[49, 49, 49, 49, 49, 49, 49, 49, 49, 49, 49] R5[50, 50, 50, 50, 50]\n",
            "             Depth:5 | ✅ Node:TR1L2L3L4R5 | L6[] RP6[50, 50, 50, 50, 50] R6[]\n",
            "         Depth:3 | 🤔 Node:TR1L2R3 | L4[53, 54, 54, 54, 53, 53, 53, 53, 54, 54, 54, 54, 54] RP4[55, 55, 55, 55, 55, 55, 55, 55, 55] R4[72, 65, 71, 57, 59, 57, 58, 59, 68, 59, 59, 63, 66, 68, 62, 73, 72, 60, 64, 59, 63, 58, 67, 59, 61, 57, 68, 64, 65, 59, 56, 65, 69, 69, 62, 73, 59, 56, 73, 66, 57, 57, 63, 57, 64, 71, 71, 56, 73, 62, 65, 60, 67, 67, 73, 68, 70, 57, 63, 60, 66, 60, 69, 60, 72, 59, 63, 73, 62, 65, 62, 67, 61, 67, 69, 65, 57, 56, 70, 68, 63, 66, 56, 69, 67, 65, 59, 57, 67, 73, 65, 65, 71, 57, 61, 61, 72, 70, 61, 70, 61, 71, 56, 58, 66, 59, 58, 63, 60, 67, 59, 56, 64]\n",
            "           Depth:4 | 🤔 Node:TR1L2R3L4 | L5[] LP5[53, 53, 53, 53, 53] R5[54, 54, 54, 54, 54, 54, 54, 54]\n",
            "             Depth:5 | ✅ Node:TR1L2R3L4R5 | L6[] RP6[54, 54, 54, 54, 54, 54, 54, 54] R6[]\n",
            "           Depth:4 | 🤔 Node:TR1L2R3R4 | L5[65, 57, 59, 57, 58, 59, 68, 59, 59, 63, 66, 68, 62, 60, 64, 59, 63, 58, 67, 59, 61, 57, 68, 64, 65, 59, 56, 65, 69, 69, 62, 59, 56, 66, 57, 57, 63, 57, 64, 56, 62, 65, 60, 67, 67, 68, 57, 63, 60, 66, 60, 69, 60, 59, 63, 62, 65, 62, 67, 61, 67, 69, 65, 57, 56, 68, 63, 66, 56, 69, 67, 65, 59, 57, 67, 65, 65, 57, 61, 61, 61, 61, 56, 58, 66, 59, 58, 63, 60, 67, 59, 56, 64] RP5[70, 70, 70, 70] R5[72, 71, 73, 72, 73, 73, 71, 71, 73, 73, 72, 73, 73, 71, 72, 71]\n",
            "             Depth:5 | 🤔 Node:TR1L2R3R4L5 | L6[56, 56, 56, 56, 56, 56, 56] LP6[57, 57, 57, 57, 57, 57, 57, 57, 57, 57] R6[65, 59, 58, 59, 68, 59, 59, 63, 66, 68, 62, 60, 64, 59, 63, 58, 67, 59, 61, 68, 64, 65, 59, 65, 69, 69, 62, 59, 66, 63, 64, 62, 65, 60, 67, 67, 68, 63, 60, 66, 60, 69, 60, 59, 63, 62, 65, 62, 67, 61, 67, 69, 65, 68, 63, 66, 69, 67, 65, 59, 67, 65, 65, 61, 61, 61, 61, 58, 66, 59, 58, 63, 60, 67, 59, 64]\n",
            "               Depth:6 | ✅ Node:TR1L2R3R4L5L6 | L7[] LP7[56, 56, 56, 56, 56, 56, 56] R7[]\n",
            "               Depth:6 | 🤔 Node:TR1L2R3R4L5R6 | L7[59, 58, 59, 59, 59, 59, 58, 59, 59, 59, 59, 59, 58, 59, 58, 59] RP7[60, 60, 60, 60, 60, 60] R7[65, 68, 63, 66, 68, 62, 64, 63, 67, 61, 68, 64, 65, 65, 69, 69, 62, 66, 63, 64, 62, 65, 67, 67, 68, 63, 66, 69, 63, 62, 65, 62, 67, 61, 67, 69, 65, 68, 63, 66, 69, 67, 65, 67, 65, 65, 61, 61, 61, 61, 66, 63, 67, 64]\n",
            "                 Depth:7 | 🤔 Node:TR1L2R3R4L5R6L7 | L8[58, 58, 58, 58] LP8[59, 59, 59, 59, 59, 59, 59, 59, 59, 59, 59, 59] R8[]\n",
            "                   Depth:8 | ✅ Node:TR1L2R3R4L5R6L7L8 | L9[] LP9[58, 58, 58, 58] R9[]\n",
            "                 Depth:7 | 🤔 Node:TR1L2R3R4L5R6R7 | L8[65, 68, 63, 66, 68, 62, 64, 63, 67, 61, 68, 64, 65, 65, 62, 66, 63, 64, 62, 65, 67, 67, 68, 63, 66, 63, 62, 65, 62, 67, 61, 67, 65, 68, 63, 66, 67, 65, 67, 65, 65, 61, 61, 61, 61, 66, 63, 67, 64] RP8[69, 69, 69, 69, 69] R8[]\n",
            "                   Depth:8 | 🤔 Node:TR1L2R3R4L5R6R7L8 | L9[65, 63, 62, 64, 63, 61, 64, 65, 65, 62, 63, 64, 62, 65, 63, 63, 62, 65, 62, 61, 65, 63, 65, 65, 65, 61, 61, 61, 61, 63, 64] LP9[66, 66, 66, 66, 66] R9[68, 68, 67, 68, 67, 67, 68, 67, 67, 68, 67, 67, 67]\n",
            "                     Depth:9 | 🤔 Node:TR1L2R3R4L5R6R7L8L9 | L10[62, 61, 62, 62, 62, 62, 61, 61, 61, 61, 61] LP10[63, 63, 63, 63, 63, 63, 63] R10[65, 64, 64, 65, 65, 64, 65, 65, 65, 65, 65, 65, 64]\n",
            "                       Depth:10 | 🤔 Node:TR1L2R3R4L5R6R7L8L9L10 | L11[61, 61, 61, 61, 61, 61] LP11[62, 62, 62, 62, 62] R11[]\n",
            "                         Depth:11 | ✅ Node:TR1L2R3R4L5R6R7L8L9L10L11 | L12[] LP12[61, 61, 61, 61, 61, 61] R12[]\n",
            "                       Depth:10 | 🤔 Node:TR1L2R3R4L5R6R7L8L9R10 | L11[64, 64, 64, 64] RP11[65, 65, 65, 65, 65, 65, 65, 65, 65] R11[]\n",
            "                         Depth:11 | ✅ Node:TR1L2R3R4L5R6R7L8L9R10L11 | L12[] LP12[64, 64, 64, 64] R12[]\n",
            "                     Depth:9 | 🤔 Node:TR1L2R3R4L5R6R7L8R9 | L10[67, 67, 67, 67, 67, 67, 67, 67] RP10[68, 68, 68, 68, 68] R10[]\n",
            "                       Depth:10 | ✅ Node:TR1L2R3R4L5R6R7L8R9L10 | L11[] LP11[67, 67, 67, 67, 67, 67, 67, 67] R11[]\n",
            "             Depth:5 | 🤔 Node:TR1L2R3R4R5 | L6[72, 71, 72, 71, 71, 72, 71, 72, 71] RP6[73, 73, 73, 73, 73, 73, 73] R6[]\n",
            "               Depth:6 | 🤔 Node:TR1L2R3R4R5L6 | L7[] LP7[71, 71, 71, 71, 71] R7[72, 72, 72, 72]\n",
            "                 Depth:7 | ✅ Node:TR1L2R3R4R5L6R7 | L8[] RP8[72, 72, 72, 72] R8[]\n",
            "       Depth:2 | 🤔 Node:TR1R2 | L3[77, 77, 77, 76, 75, 75, 76, 75, 77, 77, 77, 75, 77, 77, 77, 76, 76, 77, 76, 75, 75, 75, 75, 76] RP3[78, 78, 78, 78, 78, 78, 78, 78] R3[95, 92, 97, 85, 81, 86, 96, 87, 99, 94, 97, 98, 86, 86, 94, 96, 91, 94, 83, 84, 95, 88, 90, 85, 96, 88, 79, 89, 80, 91, 83, 95, 89, 82, 92, 80, 79, 96, 80, 92, 86, 81, 90, 80, 83, 98, 92, 80, 95, 95, 99, 98, 96, 97, 82, 80, 84, 88, 93, 91, 89, 91, 79, 85, 83, 86, 89, 92, 95, 99, 89, 90, 80, 93, 81, 83, 81, 84, 87, 85, 83, 81, 88, 85, 85, 88, 89, 85, 98, 99, 90, 94, 81, 80, 90, 96, 90, 84, 80, 84, 94, 82, 82, 83, 93, 83, 86, 79, 81, 85, 85, 92, 98, 79, 88, 82, 79, 86, 98, 88, 98, 93, 92, 88, 89, 92, 85, 88, 88, 84, 80, 89, 85, 99, 80, 82, 89, 82, 94, 80, 83, 94, 92, 95, 86, 79, 99]\n",
            "         Depth:3 | 🤔 Node:TR1R2L3 | L4[76, 75, 75, 76, 75, 75, 76, 76, 76, 75, 75, 75, 75, 76] LP4[77, 77, 77, 77, 77, 77, 77, 77, 77, 77] R4[]\n",
            "           Depth:4 | 🤔 Node:TR1R2L3L4 | L5[75, 75, 75, 75, 75, 75, 75, 75] LP5[76, 76, 76, 76, 76, 76] R5[]\n",
            "             Depth:5 | ✅ Node:TR1R2L3L4L5 | L6[] LP6[75, 75, 75, 75, 75, 75, 75, 75] R6[]\n",
            "         Depth:3 | 🤔 Node:TR1R2R3 | L4[92, 85, 81, 86, 87, 86, 86, 91, 83, 84, 88, 90, 85, 88, 79, 89, 80, 91, 83, 89, 82, 92, 80, 79, 80, 92, 86, 81, 90, 80, 83, 92, 80, 82, 80, 84, 88, 91, 89, 91, 79, 85, 83, 86, 89, 92, 89, 90, 80, 81, 83, 81, 84, 87, 85, 83, 81, 88, 85, 85, 88, 89, 85, 90, 81, 80, 90, 90, 84, 80, 84, 82, 82, 83, 83, 86, 79, 81, 85, 85, 92, 79, 88, 82, 79, 86, 88, 92, 88, 89, 92, 85, 88, 88, 84, 80, 89, 85, 80, 82, 89, 82, 80, 83, 92, 86, 79] RP4[93, 93, 93, 93] R4[95, 97, 96, 99, 94, 97, 98, 94, 96, 94, 95, 96, 95, 96, 98, 95, 95, 99, 98, 96, 97, 95, 99, 98, 99, 94, 96, 94, 98, 98, 98, 99, 94, 94, 95, 99]\n",
            "           Depth:4 | 🤔 Node:TR1R2R3L4 | L5[85, 81, 86, 86, 86, 83, 84, 85, 79, 80, 83, 82, 80, 79, 80, 86, 81, 80, 83, 80, 82, 80, 84, 79, 85, 83, 86, 80, 81, 83, 81, 84, 85, 83, 81, 85, 85, 85, 81, 80, 84, 80, 84, 82, 82, 83, 83, 86, 79, 81, 85, 85, 79, 82, 79, 86, 85, 84, 80, 85, 80, 82, 82, 80, 83, 86, 79] LP5[87, 87] R5[92, 91, 88, 90, 88, 89, 91, 89, 92, 92, 90, 92, 88, 91, 89, 91, 89, 92, 89, 90, 88, 88, 89, 90, 90, 90, 92, 88, 88, 92, 88, 89, 92, 88, 88, 89, 89, 92]\n",
            "             Depth:5 | 🤔 Node:TR1R2R3L4L5 | L6[81, 79, 80, 82, 80, 79, 80, 81, 80, 80, 82, 80, 79, 80, 81, 81, 81, 81, 80, 80, 82, 82, 79, 81, 79, 82, 79, 80, 80, 82, 82, 80, 79] LP6[83, 83, 83, 83, 83, 83, 83, 83, 83] R6[85, 86, 86, 86, 84, 85, 86, 84, 85, 86, 84, 85, 85, 85, 85, 84, 84, 86, 85, 85, 86, 85, 84, 85, 86]\n",
            "               Depth:6 | 🤔 Node:TR1R2R3L4L5L6 | L7[79, 80, 80, 79, 80, 80, 80, 80, 79, 80, 80, 80, 79, 79, 79, 80, 80, 80, 79] LP7[81, 81, 81, 81, 81, 81, 81] R7[82, 82, 82, 82, 82, 82, 82]\n",
            "                 Depth:7 | 🤔 Node:TR1R2R3L4L5L6L7 | L8[79, 79, 79, 79, 79, 79, 79] LP8[80, 80, 80, 80, 80, 80, 80, 80, 80, 80, 80, 80] R8[]\n",
            "                   Depth:8 | ✅ Node:TR1R2R3L4L5L6L7L8 | L9[] LP9[79, 79, 79, 79, 79, 79, 79] R9[]\n",
            "                 Depth:7 | ✅ Node:TR1R2R3L4L5L6R7 | L8[] RP8[82, 82, 82, 82, 82, 82, 82] R8[]\n",
            "               Depth:6 | 🤔 Node:TR1R2R3L4L5R6 | L7[84, 84, 84, 84, 84, 84] RP7[85, 85, 85, 85, 85, 85, 85, 85, 85, 85, 85] R7[86, 86, 86, 86, 86, 86, 86, 86]\n",
            "                 Depth:7 | ✅ Node:TR1R2R3L4L5R6L7 | L8[] LP8[84, 84, 84, 84, 84, 84] R8[]\n",
            "                 Depth:7 | ✅ Node:TR1R2R3L4L5R6R7 | L8[] RP8[86, 86, 86, 86, 86, 86, 86, 86] R8[]\n",
            "             Depth:5 | 🤔 Node:TR1R2R3L4R5 | L6[88, 88, 89, 89, 88, 89, 89, 89, 88, 88, 89, 88, 88, 88, 89, 88, 88, 89, 89] RP6[90, 90, 90, 90, 90, 90] R6[92, 91, 91, 92, 92, 92, 91, 91, 92, 92, 92, 92, 92]\n",
            "               Depth:6 | 🤔 Node:TR1R2R3L4R5L6 | L7[] LP7[88, 88, 88, 88, 88, 88, 88, 88, 88, 88] R7[89, 89, 89, 89, 89, 89, 89, 89, 89]\n",
            "                 Depth:7 | ✅ Node:TR1R2R3L4R5L6R7 | L8[] RP8[89, 89, 89, 89, 89, 89, 89, 89, 89] R8[]\n",
            "               Depth:6 | 🤔 Node:TR1R2R3L4R5R6 | L7[] RP7[91, 91, 91, 91] R7[92, 92, 92, 92, 92, 92, 92, 92, 92]\n",
            "                 Depth:7 | ✅ Node:TR1R2R3L4R5R6R7 | L8[] RP8[92, 92, 92, 92, 92, 92, 92, 92, 92] R8[]\n",
            "           Depth:4 | 🤔 Node:TR1R2R3R4 | L5[95, 97, 96, 94, 97, 94, 96, 94, 95, 96, 95, 96, 95, 95, 96, 97, 95, 94, 96, 94, 94, 94, 95] RP5[98, 98, 98, 98, 98, 98, 98] R5[99, 99, 99, 99, 99, 99]\n",
            "             Depth:5 | 🤔 Node:TR1R2R3R4L5 | L6[95, 94, 94, 94, 95, 95, 95, 95, 95, 94, 94, 94, 94, 95] LP6[96, 96, 96, 96, 96, 96] R6[97, 97, 97]\n",
            "               Depth:6 | 🤔 Node:TR1R2R3R4L5L6 | L7[94, 94, 94, 94, 94, 94, 94] LP7[95, 95, 95, 95, 95, 95, 95] R7[]\n",
            "                 Depth:7 | ✅ Node:TR1R2R3R4L5L6L7 | L8[] LP8[94, 94, 94, 94, 94, 94, 94] R8[]\n",
            "               Depth:6 | ✅ Node:TR1R2R3R4L5R6 | L7[] RP7[97, 97, 97] R7[]\n",
            "             Depth:5 | ✅ Node:TR1R2R3R4R5 | L6[] RP6[99, 99, 99, 99, 99, 99] R6[]\n",
            "Output Array ====> [10, 10, 10, 10, 10, 10, 11, 11, 11, 11, 11, 11, 11, 12, 12, 12, 12, 12, 12, 12, 13, 13, 13, 13, 13, 13, 14, 14, 14, 14, 14, 14, 14, 14, 14, 14, 15, 15, 15, 15, 15, 15, 15, 15, 16, 16, 16, 16, 16, 16, 16, 16, 16, 16, 17, 17, 17, 17, 17, 17, 17, 17, 17, 17, 18, 18, 18, 18, 18, 18, 18, 19, 19, 19, 19, 19, 20, 20, 20, 20, 20, 20, 20, 20, 20, 20, 20, 20, 21, 21, 21, 21, 21, 21, 21, 21, 21, 21, 21, 21, 22, 22, 22, 22, 22, 23, 23, 23, 23, 23, 23, 23, 23, 23, 23, 24, 24, 24, 24, 24, 24, 24, 24, 24, 24, 24, 24, 25, 25, 25, 25, 25, 25, 26, 26, 26, 26, 26, 26, 26, 27, 27, 27, 27, 27, 28, 28, 28, 28, 28, 28, 28, 28, 29, 29, 29, 29, 29, 29, 30, 30, 30, 30, 30, 30, 30, 30, 31, 31, 31, 31, 31, 31, 31, 31, 32, 32, 32, 32, 32, 32, 33, 33, 33, 33, 33, 33, 33, 33, 34, 34, 34, 34, 34, 34, 34, 34, 34, 35, 35, 35, 35, 35, 35, 35, 35, 36, 36, 36, 36, 36, 36, 36, 36, 36, 37, 37, 37, 37, 37, 37, 37, 37, 38, 38, 38, 38, 38, 38, 38, 38, 38, 38, 38, 38, 39, 39, 39, 39, 39, 39, 39, 40, 40, 40, 40, 40, 40, 40, 40, 40, 40, 40, 41, 41, 41, 41, 41, 41, 41, 41, 42, 42, 42, 42, 42, 42, 42, 42, 42, 43, 43, 43, 43, 43, 43, 43, 43, 43, 44, 44, 44, 44, 44, 44, 44, 44, 44, 45, 45, 45, 45, 45, 45, 45, 45, 45, 45, 46, 46, 46, 46, 46, 47, 47, 47, 47, 47, 47, 47, 47, 47, 47, 47, 48, 48, 48, 48, 48, 48, 48, 49, 49, 49, 49, 49, 49, 49, 49, 49, 49, 49, 50, 50, 50, 50, 50, 51, 51, 51, 51, 51, 51, 51, 51, 52, 52, 52, 52, 52, 52, 52, 52, 52, 52, 53, 53, 53, 53, 53, 54, 54, 54, 54, 54, 54, 54, 54, 55, 55, 55, 55, 55, 55, 55, 55, 55, 56, 56, 56, 56, 56, 56, 56, 57, 57, 57, 57, 57, 57, 57, 57, 57, 57, 58, 58, 58, 58, 59, 59, 59, 59, 59, 59, 59, 59, 59, 59, 59, 59, 60, 60, 60, 60, 60, 60, 61, 61, 61, 61, 61, 61, 62, 62, 62, 62, 62, 63, 63, 63, 63, 63, 63, 63, 64, 64, 64, 64, 65, 65, 65, 65, 65, 65, 65, 65, 65, 66, 66, 66, 66, 66, 67, 67, 67, 67, 67, 67, 67, 67, 68, 68, 68, 68, 68, 69, 69, 69, 69, 69, 70, 70, 70, 70, 71, 71, 71, 71, 71, 72, 72, 72, 72, 73, 73, 73, 73, 73, 73, 73, 74, 74, 74, 74, 74, 74, 74, 74, 74, 75, 75, 75, 75, 75, 75, 75, 75, 76, 76, 76, 76, 76, 76, 77, 77, 77, 77, 77, 77, 77, 77, 77, 77, 78, 78, 78, 78, 78, 78, 78, 78, 79, 79, 79, 79, 79, 79, 79, 80, 80, 80, 80, 80, 80, 80, 80, 80, 80, 80, 80, 81, 81, 81, 81, 81, 81, 81, 82, 82, 82, 82, 82, 82, 82, 83, 83, 83, 83, 83, 83, 83, 83, 83, 84, 84, 84, 84, 84, 84, 85, 85, 85, 85, 85, 85, 85, 85, 85, 85, 85, 86, 86, 86, 86, 86, 86, 86, 86, 87, 87, 88, 88, 88, 88, 88, 88, 88, 88, 88, 88, 89, 89, 89, 89, 89, 89, 89, 89, 89, 90, 90, 90, 90, 90, 90, 91, 91, 91, 91, 92, 92, 92, 92, 92, 92, 92, 92, 92, 93, 93, 93, 93, 94, 94, 94, 94, 94, 94, 94, 95, 95, 95, 95, 95, 95, 95, 96, 96, 96, 96, 96, 96, 97, 97, 97, 98, 98, 98, 98, 98, 98, 98, 99, 99, 99, 99, 99, 99]\n",
            "\n",
            "Time Taken ⌛️: 0.001595 seconds\n",
            "\n"
          ]
        }
      ]
    }
  ]
}