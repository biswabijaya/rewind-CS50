{
  "nbformat": 4,
  "nbformat_minor": 0,
  "metadata": {
    "colab": {
      "provenance": [],
      "authorship_tag": "ABX9TyOf5v4VLZlIU0M99EFrRAg4",
      "include_colab_link": true
    },
    "kernelspec": {
      "name": "python3",
      "display_name": "Python 3"
    },
    "language_info": {
      "name": "python"
    }
  },
  "cells": [
    {
      "cell_type": "markdown",
      "metadata": {
        "id": "view-in-github",
        "colab_type": "text"
      },
      "source": [
        "<a href=\"https://colab.research.google.com/github/biswabijaya/rewind-CS50/blob/biswa/sorting-algorithms.ipynb\" target=\"_parent\"><img src=\"https://colab.research.google.com/assets/colab-badge.svg\" alt=\"Open In Colab\"/></a>"
      ]
    },
    {
      "cell_type": "markdown",
      "source": [
        "Standard input handiling functions"
      ],
      "metadata": {
        "id": "p1w8Qd5CW0MH"
      }
    },
    {
      "cell_type": "code",
      "source": [
        "import random\n",
        "import string\n",
        "\n",
        "# Input Type: This function will keep asking until valid input is received\n",
        "def get_input_choice(type_):\n",
        "    while True:\n",
        "        choice = input(f\"Enter 'M' to manually input {type_} or 'R' for random: \").strip().upper()\n",
        "        if choice in ['M', 'R']:\n",
        "            return choice\n",
        "        else:\n",
        "            print(\"Invalid input. Please enter 'M' or 'R'.\")\n",
        "\n",
        "# Input Number Choices: This function will keep asking until valid input is received\n",
        "def get_numbers(input_choice):\n",
        "    numbers = []  # Initialize the list to collect valid numbers\n",
        "    while len(numbers) < 3:  # The target length for input numbers is 3\n",
        "        try:\n",
        "            if input_choice == 'R':\n",
        "                num_count = int(input(\"How many random numbers do you want? \"))\n",
        "                return [random.randint(10, 99) for _ in range(num_count)]\n",
        "            elif input_choice == 'M':\n",
        "                num_count = int(input(\"How many numbers would you like to input? \"))\n",
        "                while len(numbers) < num_count:  # Keep asking until we have the desired number of valid numbers\n",
        "                    num = input(f\"Enter number {len(numbers) + 1}: \").strip()\n",
        "                    if num.isdigit():  # Check if the input is a valid number\n",
        "                        numbers.append(int(num))  # If valid, append to list\n",
        "                    else:\n",
        "                        print(\"Please enter a valid number. 😒\\nLet's try again. Eg: 1, 22, 33 etc.\")\n",
        "                return numbers\n",
        "        except ValueError:\n",
        "            print(\"Invalid input. Retry.\")\n",
        "\n",
        "# Input Letter Choices: This function will keep asking until valid input is received\n",
        "def get_letters(input_choice):\n",
        "    letters = []  # Initialize the list to collect valid letters\n",
        "    while len(letters) < 3:  # The target length for input letters is 3\n",
        "        try:\n",
        "            if input_choice == 'R':\n",
        "                num_letters = int(input(\"How many random uppercase letters do you want? \"))\n",
        "                return random.choices(string.ascii_uppercase, k=num_letters)\n",
        "            elif input_choice == 'M':\n",
        "                num_letters = int(input(\"How many letters would you like to input? \"))\n",
        "                while len(letters) < num_letters:  # Keep asking until we have the desired number of valid letters\n",
        "                    letter = input(f\"Enter letter {len(letters) + 1}: \").strip().upper()\n",
        "                    if letter in string.ascii_uppercase:  # Check if letter is valid\n",
        "                        letters.append(letter)  # If valid, append to list\n",
        "                    else:\n",
        "                        print(\"Please enter a valid letter. 😒\\nLet's try again. Eg: A, X, Y etc.\")\n",
        "                return letters\n",
        "        except ValueError:\n",
        "            print(\"Invalid input. Retry.\")\n",
        "\n",
        "# Greetings\n",
        "def greetings(type_):\n",
        "    print(f\"Thank You.\\nYou have chosen to see an example with {type_} 👏🏼. Let's explore.\")"
      ],
      "metadata": {
        "id": "CKvRwEywWevc"
      },
      "execution_count": 1,
      "outputs": []
    },
    {
      "cell_type": "markdown",
      "source": [
        "Time and Space Complexity Calculations"
      ],
      "metadata": {
        "id": "vPgQa6YvbuwD"
      }
    },
    {
      "cell_type": "code",
      "source": [
        "import time\n",
        "import inspect\n",
        "\n",
        "# Function to measure the time and space complexity\n",
        "def measure_time_space(func, arr):\n",
        "    # Get the function name dynamically\n",
        "    func_name = inspect.stack()[1].function\n",
        "\n",
        "    start_time = time.time()  # Start time for performance tracking\n",
        "    func(arr)  # Call the sorting function\n",
        "    end_time = time.time()  # End time for performance tracking\n",
        "\n",
        "    # Calculate time taken\n",
        "    time_taken = end_time - start_time\n",
        "    print(f\"Time Taken: {time_taken:.6f} seconds\")\n",
        "\n",
        "    # Space Complexity handling for different algorithms based on function name\n",
        "    if func_name == \"selection_sort\":\n",
        "        print(\"Selection Sort | Space Complexity: O(1) (in-place sorting, only a few variables used)\")\n",
        "    elif func_name == \"bubble_sort\":\n",
        "        print(\"Bubble Sort | Space Complexity: O(1) (in-place sorting, only a few variables used)\")\n",
        "    elif func_name == \"merge_sort\":\n",
        "        print(\"Merge Sort | Space Complexity: O(n) (extra space needed for merging subarrays)\")\n",
        "    elif func_name == \"quick_sort\":\n",
        "        print(\"Quick Sort | Space Complexity: O(log n) (space required for recursive calls)\")\n",
        "    else:\n",
        "        print(\"\")"
      ],
      "metadata": {
        "id": "4T31CnAXbu3Y"
      },
      "execution_count": 2,
      "outputs": []
    },
    {
      "cell_type": "markdown",
      "source": [
        "Bubble Sort Algorithm"
      ],
      "metadata": {
        "id": "FUs6icFvXAlW"
      }
    },
    {
      "cell_type": "code",
      "source": [
        "# Optimized Bubble Sort with Step-by-Step Explanation\n",
        "def bubble_sort(arr):\n",
        "    n = len(arr)\n",
        "    print(f\"\\nApplying Bubble Sort 🙌🏻\\n\\nInitial List:\\n{arr}\")\n",
        "\n",
        "    for i in range(n):\n",
        "        swapped = False  # Flag to optimize\n",
        "\n",
        "        print(f\"\\nPass {i+1}:\")\n",
        "        for j in range(n - i - 1):  # Loop up to the unsorted part\n",
        "\n",
        "            # Swap if necessary\n",
        "            if arr[j] > arr[j+1]:\n",
        "                arr[j], arr[j+1] = arr[j+1], arr[j]\n",
        "                swapped = True\n",
        "\n",
        "            # Format output with underlined swapped elements\n",
        "            formatted_list = [\n",
        "                f\"\\x1B[4m{x}\\x1B[0m\" if k in (j, j+1) else str(x)\n",
        "                for k, x in enumerate(arr)\n",
        "            ]\n",
        "            print(f\"[{', '.join(formatted_list)}]\", \"✅\" if swapped else \"❌\")\n",
        "\n",
        "        if not swapped:  # If no swaps, sorting is complete\n",
        "            print(\"Sorting Complete 😉.\")\n",
        "            break\n",
        "\n",
        "    print(f\"\\nAscending 👇🏻 Bubble Result 😇\\n{arr}\")\n",
        "    # return arr"
      ],
      "metadata": {
        "id": "KArZUPlJWkFo"
      },
      "execution_count": 3,
      "outputs": []
    },
    {
      "cell_type": "markdown",
      "source": [
        "Selection Sort Algorithm"
      ],
      "metadata": {
        "id": "MTxSDAy1cU5B"
      }
    },
    {
      "cell_type": "code",
      "source": [
        "# Optimized Selection Sort with Step-by-Step Explanation\n",
        "def selection_sort(arr):\n",
        "    n = len(arr)\n",
        "    print(f\"\\nApplying Selection Sort 🙌🏻\\n\\nInitial List:\\n{arr}\")\n",
        "\n",
        "    for i in range(n):\n",
        "        swapped = False  # Flag to optimize\n",
        "        min_idx = i\n",
        "        print(f\"\\nPass {i+1}:\")\n",
        "        print(f\"i={i}| Cur Min [{min_idx} => {arr[min_idx]}]\")\n",
        "\n",
        "        for j in range(i + 1, n):\n",
        "            if arr[j] < arr[min_idx]:\n",
        "                min_idx = j\n",
        "                swapped = True  # Set flag if a swap occurs\n",
        "                print(f\"j={j}| New Min [{min_idx} => {arr[min_idx]}]\")\n",
        "\n",
        "        # Swap the found minimum element with the first element\n",
        "        if min_idx != i:\n",
        "            arr[i], arr[min_idx] = arr[min_idx], arr[i]\n",
        "            # print(f\"Swap [Item at {i+1} with Item at {min_idx}]\")\n",
        "\n",
        "        # Format output with underlined swapped elements\n",
        "        formatted_list = [\n",
        "            f\"\\x1B[4m{x}\\x1B[0m\" if k in (i, min_idx) else str(x)\n",
        "            for k, x in enumerate(arr)\n",
        "        ]\n",
        "        print(f\"[{', '.join(formatted_list)}]\", \"✅\" if swapped else \"❌\")\n",
        "\n",
        "    print(f\"\\nAscending 👇🏻 Selection Sort Result 😇\\n{arr}\")\n",
        "    # return arr"
      ],
      "metadata": {
        "id": "XHyFdmVpXdCc"
      },
      "execution_count": 4,
      "outputs": []
    },
    {
      "cell_type": "markdown",
      "source": [
        "Merge Sort Algorithm"
      ],
      "metadata": {
        "id": "gOBxLBumdkx4"
      }
    },
    {
      "cell_type": "code",
      "source": [
        "# Optimized Merge Sort with Step-by-Step Explanation\n",
        "def merge_sort(arr):\n",
        "    if len(arr) > 1:\n",
        "        mid = len(arr) // 2\n",
        "        left_half = arr[:mid]\n",
        "        right_half = arr[mid:]\n",
        "\n",
        "        print(f\"Splitting: {arr} into {left_half} and {right_half}\")\n",
        "\n",
        "        merge_sort(left_half)\n",
        "        merge_sort(right_half)\n",
        "\n",
        "        i = j = k = 0\n",
        "\n",
        "        while i < len(left_half) and j < len(right_half):\n",
        "            if left_half[i] < right_half[j]:\n",
        "                arr[k] = left_half[i]\n",
        "                i += 1\n",
        "            else:\n",
        "                arr[k] = right_half[j]\n",
        "                j += 1\n",
        "            k += 1\n",
        "\n",
        "        while i < len(left_half):\n",
        "            arr[k] = left_half[i]\n",
        "            i += 1\n",
        "            k += 1\n",
        "\n",
        "        while j < len(right_half):\n",
        "            arr[k] = right_half[j]\n",
        "            j += 1\n",
        "            k += 1\n",
        "\n",
        "        print(f\"Merging: {left_half} and {right_half} into {arr}\")\n",
        "\n",
        "    print(f\"\\nAscending 👇🏻 Merge Sort Result 😇\\n{arr}\")\n"
      ],
      "metadata": {
        "id": "yeSdRggAd1f5"
      },
      "execution_count": 5,
      "outputs": []
    },
    {
      "cell_type": "markdown",
      "source": [
        "Quick Sort Algorithm"
      ],
      "metadata": {
        "id": "c00KIuoqdlDC"
      }
    },
    {
      "cell_type": "code",
      "source": [
        "# Optimized Quick Sort with Step-by-Step Explanation\n",
        "def quick_sort(arr):\n",
        "    if len(arr) <= 1:\n",
        "        return arr  # Base case: already sorted\n",
        "\n",
        "    pivot = arr[len(arr) // 2]  # Choose middle element as pivot\n",
        "    left = [x for x in arr if x < pivot]\n",
        "    middle = [x for x in arr if x == pivot]\n",
        "    right = [x for x in arr if x > pivot]\n",
        "\n",
        "    print(f\"Pivot: {pivot}, Left: {left}, Middle: {middle}, Right: {right}\")\n",
        "\n",
        "    return quick_sort(left) + middle + quick_sort(right)\n"
      ],
      "metadata": {
        "id": "arpunYrmd4hK"
      },
      "execution_count": 6,
      "outputs": []
    },
    {
      "cell_type": "markdown",
      "source": [
        "Main program"
      ],
      "metadata": {
        "id": "SAY8LAOFXN2W"
      }
    },
    {
      "cell_type": "code",
      "source": [
        "# Main program\n",
        "print(\"----------Selection Sort Example----------\\n\")\n",
        "\n",
        "# Loop to ensure valid input for choice\n",
        "while True:\n",
        "    choice = input(\"Enter 'L' for random letters or 'N' for random numbers: \").strip().upper()\n",
        "    if choice == 'N':\n",
        "        input_choice = get_input_choice(\"numbers\")\n",
        "        numbers = get_numbers(input_choice)\n",
        "        if numbers:\n",
        "            greetings(\"numbers\")\n",
        "            # measure_time_space(bubble_sort, numbers)\n",
        "            measure_time_space(selection_sort, numbers)\n",
        "        break\n",
        "    elif choice == 'L':\n",
        "        input_choice = get_input_choice(\"letters\")\n",
        "        letters = get_letters(input_choice)\n",
        "        if letters:\n",
        "            greetings(\"letters\")\n",
        "            # measure_time_space(bubble_sort, letters)\n",
        "            measure_time_space(selection_sort, letters)\n",
        "        break\n",
        "    else:\n",
        "        print(\"Invalid choice. Please enter 'L' for letters or 'N' for numbers.\")"
      ],
      "metadata": {
        "colab": {
          "base_uri": "https://localhost:8080/"
        },
        "collapsed": true,
        "id": "zee0SQ-BWRrg",
        "outputId": "01b6afea-df45-40a9-9ee2-77ef41d41d9a"
      },
      "execution_count": 7,
      "outputs": [
        {
          "output_type": "stream",
          "name": "stdout",
          "text": [
            "----------Selection Sort Example----------\n",
            "\n",
            "Enter 'L' for random letters or 'N' for random numbers: L\n",
            "Enter 'M' to manually input letters or 'R' for random: R\n",
            "How many random uppercase letters do you want? 5\n",
            "Thank You.\n",
            "You have chosen to see an example with letters 👏🏼. Let's explore.\n",
            "\n",
            "Applying Selection Sort 🙌🏻\n",
            "\n",
            "Initial List:\n",
            "['V', 'O', 'G', 'Z', 'N']\n",
            "\n",
            "Pass 1:\n",
            "i=0| Cur Min [0 => V]\n",
            "j=1| New Min [1 => O]\n",
            "j=2| New Min [2 => G]\n",
            "[\u001b[4mG\u001b[0m, O, \u001b[4mV\u001b[0m, Z, N] ✅\n",
            "\n",
            "Pass 2:\n",
            "i=1| Cur Min [1 => O]\n",
            "j=4| New Min [4 => N]\n",
            "[G, \u001b[4mN\u001b[0m, V, Z, \u001b[4mO\u001b[0m] ✅\n",
            "\n",
            "Pass 3:\n",
            "i=2| Cur Min [2 => V]\n",
            "j=4| New Min [4 => O]\n",
            "[G, N, \u001b[4mO\u001b[0m, Z, \u001b[4mV\u001b[0m] ✅\n",
            "\n",
            "Pass 4:\n",
            "i=3| Cur Min [3 => Z]\n",
            "j=4| New Min [4 => V]\n",
            "[G, N, O, \u001b[4mV\u001b[0m, \u001b[4mZ\u001b[0m] ✅\n",
            "\n",
            "Pass 5:\n",
            "i=4| Cur Min [4 => Z]\n",
            "[G, N, O, V, \u001b[4mZ\u001b[0m] ❌\n",
            "\n",
            "Ascending 👇🏻 Selection Sort Result 😇\n",
            "['G', 'N', 'O', 'V', 'Z']\n",
            "Time Taken: 0.000251 seconds\n",
            "\n"
          ]
        }
      ]
    }
  ]
}