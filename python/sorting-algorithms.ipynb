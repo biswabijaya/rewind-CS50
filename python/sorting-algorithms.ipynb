{
  "nbformat": 4,
  "nbformat_minor": 0,
  "metadata": {
    "colab": {
      "provenance": [],
      "toc_visible": true,
      "authorship_tag": "ABX9TyOjYokUO18V/LpqJkM9FDk7",
      "include_colab_link": true
    },
    "kernelspec": {
      "name": "python3",
      "display_name": "Python 3"
    },
    "language_info": {
      "name": "python"
    }
  },
  "cells": [
    {
      "cell_type": "markdown",
      "metadata": {
        "id": "view-in-github",
        "colab_type": "text"
      },
      "source": [
        "<a href=\"https://colab.research.google.com/github/biswabijaya/rewind-CS50/blob/biswa/python/sorting-algorithms.ipynb\" target=\"_parent\"><img src=\"https://colab.research.google.com/assets/colab-badge.svg\" alt=\"Open In Colab\"/></a>"
      ]
    },
    {
      "cell_type": "markdown",
      "source": [
        "# Standard input handiling functions"
      ],
      "metadata": {
        "id": "p1w8Qd5CW0MH"
      }
    },
    {
      "cell_type": "code",
      "source": [
        "import random\n",
        "import string\n",
        "\n",
        "# Input Type: This function will keep asking until valid input is received\n",
        "def get_input_choice(type_):\n",
        "    while True:\n",
        "        choice = input(f\"Enter 'M' to manually input {type_} or 'R' for random: \").strip().upper()\n",
        "        if choice in ['M', 'R']:\n",
        "            return choice\n",
        "        else:\n",
        "            print(\"Invalid input. Please enter 'M' or 'R'.\")\n",
        "\n",
        "# Input Number Choices: This function will keep asking until valid input is received\n",
        "def get_numbers(input_choice):\n",
        "    numbers = []  # Initialize the list to collect valid numbers\n",
        "    while len(numbers) < 3:  # The target length for input numbers is 3\n",
        "        try:\n",
        "            if input_choice == 'R':\n",
        "                num_count = int(input(\"How many random numbers do you want? \"))\n",
        "                return [random.randint(10, 99) for _ in range(num_count)]\n",
        "            elif input_choice == 'M':\n",
        "                num_count = int(input(\"How many numbers would you like to input? \"))\n",
        "                while len(numbers) < num_count:  # Keep asking until we have the desired number of valid numbers\n",
        "                    num = input(f\"Enter number {len(numbers) + 1}: \").strip()\n",
        "                    if num.isdigit():  # Check if the input is a valid number\n",
        "                        numbers.append(int(num))  # If valid, append to list\n",
        "                    else:\n",
        "                        print(\"Please enter a valid number. 😒\\nLet's try again. Eg: 1, 22, 33 etc.\")\n",
        "                return numbers\n",
        "        except ValueError:\n",
        "            print(\"Invalid input. Retry.\")\n",
        "\n",
        "# Input Letter Choices: This function will keep asking until valid input is received\n",
        "def get_letters(input_choice):\n",
        "    letters = []  # Initialize the list to collect valid letters\n",
        "    while len(letters) < 3:  # The target length for input letters is 3\n",
        "        try:\n",
        "            if input_choice == 'R':\n",
        "                num_letters = int(input(\"How many random uppercase letters do you want? \"))\n",
        "                return random.choices(string.ascii_uppercase, k=num_letters)\n",
        "            elif input_choice == 'M':\n",
        "                num_letters = int(input(\"How many letters would you like to input? \"))\n",
        "                while len(letters) < num_letters:  # Keep asking until we have the desired number of valid letters\n",
        "                    letter = input(f\"Enter letter {len(letters) + 1}: \").strip().upper()\n",
        "                    if letter in string.ascii_uppercase:  # Check if letter is valid\n",
        "                        letters.append(letter)  # If valid, append to list\n",
        "                    else:\n",
        "                        print(\"Please enter a valid letter. 😒\\nLet's try again. Eg: A, X, Y etc.\")\n",
        "                return letters\n",
        "        except ValueError:\n",
        "            print(\"Invalid input. Retry.\")\n",
        "\n",
        "# Greetings\n",
        "def greetings(type_, arr_):\n",
        "    print(f\"Thank You.\\nYou have chosen to see an example with {type_} 👏🏼. Let's explore. \\n\")\n",
        "    print(f\"Input Array =====> {arr_}\")"
      ],
      "metadata": {
        "id": "CKvRwEywWevc"
      },
      "execution_count": 1,
      "outputs": []
    },
    {
      "cell_type": "markdown",
      "source": [
        "# Time and Space Complexity Calculations"
      ],
      "metadata": {
        "id": "vPgQa6YvbuwD"
      }
    },
    {
      "cell_type": "code",
      "source": [
        "import time\n",
        "import inspect\n",
        "\n",
        "# Function to measure the time and space complexity\n",
        "def measure_time_space(func, arr_in):\n",
        "    # Get the function name dynamically\n",
        "    func_name = inspect.stack()[1].function\n",
        "\n",
        "    start_time = time.time()  # Start time for performance tracking\n",
        "    arr_out = func(arr_in)  # Call the sorting function\n",
        "    end_time = time.time()  # End time for performance tracking\n",
        "\n",
        "    print(f\"Output Array ====> {arr_out}\")\n",
        "\n",
        "    # Calculate time taken\n",
        "    time_taken = end_time - start_time\n",
        "    print(f\"\\nTime Taken ⌛️: {time_taken:.6f} seconds\")\n",
        "\n",
        "    # Space Complexity handling for different algorithms based on function name\n",
        "    if func_name == \"bubble_sort\":\n",
        "        print(\"Bubble Sort | Space Complexity: O(1) (in-place sorting, only a few variables used)\")\n",
        "    elif func_name == \"insertion_sort\":\n",
        "        print(\"Insertion Sort | Space Complexity: O(1) (in-place sorting, only a few variables used)\")\n",
        "    elif func_name == \"selection_sort\":\n",
        "        print(\"Selection Sort | Space Complexity: O(1) (in-place sorting, only a few variables used)\")\n",
        "    elif func_name == \"merge_sort\":\n",
        "        print(\"Merge Sort | Space Complexity: O(n) (extra space needed for merging subarrays)\")\n",
        "    elif func_name == \"quick_sort\":\n",
        "        print(\"Quick Sort | Space Complexity: O(log n) (space required for recursive calls)\")\n",
        "    elif func_name == \"counting_sort\":\n",
        "        print(\"Counting Sort | Space Complexity: O(n + k) (extra space for count array)\")\n",
        "    else:\n",
        "        print(\"\")\n",
        "\n",
        "\n",
        ""
      ],
      "metadata": {
        "id": "4T31CnAXbu3Y"
      },
      "execution_count": 2,
      "outputs": []
    },
    {
      "cell_type": "markdown",
      "source": [
        "# Sorting Algos"
      ],
      "metadata": {
        "id": "zF5F4ZXhdXwL"
      }
    },
    {
      "cell_type": "markdown",
      "source": [
        "## Bubble Sort"
      ],
      "metadata": {
        "id": "mdLPEtvbcqRv"
      }
    },
    {
      "cell_type": "code",
      "source": [
        "# Optimized Bubble Sort with Step-by-Step Explanation\n",
        "def bubble_sort(arr):\n",
        "    n = len(arr)\n",
        "    print(f\"\\nApplying Bubble Sort 🙌🏻\\n\\nInitial List:\\n{arr}\")\n",
        "\n",
        "    for i in range(n):\n",
        "        swapped = False  # Flag to optimize\n",
        "\n",
        "        print(f\"\\nPass {i+1}:\")\n",
        "        for j in range(n - i - 1):  # Loop up to the unsorted part\n",
        "\n",
        "            # Swap if necessary\n",
        "            if arr[j] > arr[j+1]:\n",
        "                arr[j], arr[j+1] = arr[j+1], arr[j]\n",
        "                swapped = True\n",
        "\n",
        "            # Format output with underlined swapped elements\n",
        "            formatted_list = [\n",
        "                f\"\\x1B[4m{x}\\x1B[0m\" if k in (j, j+1) else str(x)\n",
        "                for k, x in enumerate(arr)\n",
        "            ]\n",
        "            print(f\"[{', '.join(formatted_list)}]\", \"✅\" if swapped else \"❌\")\n",
        "\n",
        "        if not swapped:  # If no swaps, sorting is complete\n",
        "            print(\"Sorting Complete 😉.\")\n",
        "            break\n",
        "\n",
        "    print(f\"\\nAscending 👇🏻 Bubble Result 😇\\n{arr}\")\n",
        "    # return arr"
      ],
      "metadata": {
        "id": "KArZUPlJWkFo"
      },
      "execution_count": null,
      "outputs": []
    },
    {
      "cell_type": "markdown",
      "source": [
        "## Insertion Sort"
      ],
      "metadata": {
        "id": "hdoJvAaGoBwL"
      }
    },
    {
      "cell_type": "code",
      "source": [
        "# Optimized Insertion Sort with Step-by-Step Explanation\n",
        "def insertion_sort(arr):\n",
        "    n = len(arr)\n",
        "    print(f\"\\nApplying Insertion Sort 🙌🏻\")\n",
        "\n",
        "    for i in range(1, n):  # Start from the second element\n",
        "        key = arr[i]\n",
        "        j = i - 1\n",
        "\n",
        "        print(f\"\\nIteration {i} : [Key={key}]\")\n",
        "\n",
        "        while j >= 0 and key < arr[j]:\n",
        "            arr[j + 1] = arr[j]\n",
        "            j -= 1\n",
        "\n",
        "            # Format output with underlined shifted elements\n",
        "            formatted_list = [\n",
        "                f\"\\x1B[4m{x}\\x1B[0m\" if k == j + 1 else str(x)\n",
        "                for k, x in enumerate(arr)\n",
        "            ]\n",
        "            print(f\"Shifting Val: [{', '.join(formatted_list)}]\")\n",
        "\n",
        "\n",
        "        arr[j + 1] = key  # Insert the key in its correct position\n",
        "\n",
        "        # Format the final list for this iteration with the key highlighted\n",
        "        formatted_list = [\n",
        "            f\"\\x1B[32m{x}\\x1B[0m\" if k == j + 1 else str(x) #Highlight the key in green\n",
        "            for k, x in enumerate(arr)\n",
        "        ]\n",
        "        print(f\"Inserted Key: [{', '.join(formatted_list)}]\")\n",
        "\n",
        "\n",
        "    print(f\"\\nAscending 👇🏻 Insertion Result 😇\")\n",
        "    return arr\n"
      ],
      "metadata": {
        "id": "zXoHgsbgoQlg"
      },
      "execution_count": 17,
      "outputs": []
    },
    {
      "cell_type": "markdown",
      "source": [
        "## Selection Sort"
      ],
      "metadata": {
        "id": "76lso7J2cuTj"
      }
    },
    {
      "cell_type": "code",
      "source": [
        "# Optimized Selection Sort with Step-by-Step Explanation\n",
        "def selection_sort(arr):\n",
        "    n = len(arr)\n",
        "    print(f\"\\nApplying Selection Sort 🙌🏻\\n\\nInitial List:\\n{arr}\")\n",
        "\n",
        "    for i in range(n):\n",
        "        swapped = False  # Flag to optimize\n",
        "        min_idx = i\n",
        "        print(f\"\\nPass {i+1}:\")\n",
        "        print(f\"i={i}| Cur Min [{min_idx} => {arr[min_idx]}]\")\n",
        "\n",
        "        for j in range(i + 1, n):\n",
        "            if arr[j] < arr[min_idx]:\n",
        "                min_idx = j\n",
        "                swapped = True  # Set flag if a swap occurs\n",
        "                print(f\"j={j}| New Min [{min_idx} => {arr[min_idx]}]\")\n",
        "\n",
        "        # Swap the found minimum element with the first element\n",
        "        if min_idx != i:\n",
        "            arr[i], arr[min_idx] = arr[min_idx], arr[i]\n",
        "            # print(f\"Swap [Item at {i+1} with Item at {min_idx}]\")\n",
        "\n",
        "        # Format output with underlined swapped elements\n",
        "        formatted_list = [\n",
        "            f\"\\x1B[4m{x}\\x1B[0m\" if k in (i, min_idx) else str(x)\n",
        "            for k, x in enumerate(arr)\n",
        "        ]\n",
        "        print(f\"[{', '.join(formatted_list)}]\", \"✅\" if swapped else \"❌\")\n",
        "\n",
        "    print(f\"\\nAscending 👇🏻 Selection Sort Result 😇\\n{arr}\")\n",
        "    # return arr"
      ],
      "metadata": {
        "id": "XHyFdmVpXdCc"
      },
      "execution_count": null,
      "outputs": []
    },
    {
      "cell_type": "markdown",
      "source": [
        "## Merge Sort"
      ],
      "metadata": {
        "id": "gOBxLBumdkx4"
      }
    },
    {
      "cell_type": "code",
      "source": [
        "# Optimized Merge Sort with Step-by-Step Explanation\n",
        "def merge_sort(arr, side=\"L\", depth=0):\n",
        "    if len(arr) > 1:\n",
        "        mid = len(arr) // 2\n",
        "        left_half = arr[:mid]\n",
        "        right_half = arr[mid:]\n",
        "\n",
        "        print(f\"SPLIT😡: {side}{depth}{arr} ===> L{depth+1}{left_half} ⬅️➡️ R{depth+1}{right_half}\")\n",
        "\n",
        "        merge_sort(left_half, \"L\", depth+1)\n",
        "        merge_sort(right_half, \"R\", depth+1)\n",
        "\n",
        "        i = j = k = 0\n",
        "\n",
        "        while i < len(left_half) and j < len(right_half):\n",
        "            if left_half[i] < right_half[j]:\n",
        "                arr[k] = left_half[i]\n",
        "                i += 1\n",
        "            else:\n",
        "                arr[k] = right_half[j]\n",
        "                j += 1\n",
        "            k += 1\n",
        "\n",
        "        while i < len(left_half):\n",
        "            arr[k] = left_half[i]\n",
        "            i += 1\n",
        "            k += 1\n",
        "\n",
        "        while j < len(right_half):\n",
        "            arr[k] = right_half[j]\n",
        "            j += 1\n",
        "            k += 1\n",
        "\n",
        "        print(f\"MERGE😊: {side}{depth}{arr} <=== {side}{depth+1}{left_half} ➡️⬅️ {side}{depth+1}{right_half}\")\n",
        "\n",
        "    print(f\"SORTED✅ {side}{depth}{arr} \", \"☘️\" * len(arr))\n"
      ],
      "metadata": {
        "id": "yeSdRggAd1f5"
      },
      "execution_count": 44,
      "outputs": []
    },
    {
      "cell_type": "markdown",
      "source": [
        "## Quick Sort"
      ],
      "metadata": {
        "id": "c00KIuoqdlDC"
      }
    },
    {
      "cell_type": "code",
      "source": [
        "# Optimized Quick Sort with Step-by-Step Explanation\n",
        "def quick_sort(arr, side=\"R\", path=\"T\", depth=1):\n",
        "    if len(arr) <= 1:\n",
        "        # print(f\"{path}[]\")  # Print empty bracket for base case\n",
        "        return arr  # Base case: already sorted\n",
        "\n",
        "    pivot = arr[len(arr) // 2]  # Choose middle element as pivot\n",
        "\n",
        "    left = [x for x in arr if x < pivot]\n",
        "    middle = [x for x in arr if x == pivot]\n",
        "    right = [x for x in arr if x > pivot]\n",
        "\n",
        "    sorted = \"✅\" if len(left) <= 1 and len(right) <= 1 else \"🤔\"\n",
        "\n",
        "    print(\"  \" * depth,f\"Depth:{depth-1} | {sorted} Node:{path} | L{depth}{left} {side}P{depth}{middle} R{depth}{right}\")\n",
        "\n",
        "    return quick_sort(left, \"L\", path + \"L\" + str(depth), depth+1) + middle + quick_sort(right, \"R\", path + \"R\" + str(depth), depth+1)\n"
      ],
      "metadata": {
        "id": "arpunYrmd4hK"
      },
      "execution_count": 64,
      "outputs": []
    },
    {
      "cell_type": "markdown",
      "source": [
        "##Counting Sort"
      ],
      "metadata": {
        "id": "1frT7T2_nCmX"
      }
    },
    {
      "cell_type": "code",
      "source": [
        "#Optimized Counting Sort with Step-by-Step Explanation and use emoji for better logs\n",
        "\n",
        "def counting_sort(arr):\n",
        "    print(f\"\\nApplying Counting Sort 🙌🏻\\n\\nInitial List:\\n{arr}\")\n",
        "\n",
        "    max_element = max(arr)  # Find the maximum element for range\n",
        "    min_element = min(arr)  # Find the minimum element\n",
        "    range_of_elements = max_element - min_element + 1  # Calculate the range\n",
        "\n",
        "    print(f\"Max Element ⬆️: {max_element}, Min Element ⬇️: {min_element}\")\n",
        "    print(f\"Range of Elements: {range_of_elements}\")\n",
        "\n",
        "    count_arr = [0] * range_of_elements  # Initialize count array\n",
        "    print(f\"Initialized count array: {count_arr}\")\n",
        "\n",
        "    # Store the count of each element in the count array\n",
        "    for num in arr:\n",
        "        count_arr[num - min_element] += 1\n",
        "    print(f\"Count array after counting elements: {count_arr}\")\n",
        "\n",
        "    # Modify count array to store cumulative counts\n",
        "    for i in range(1, range_of_elements):\n",
        "        count_arr[i] += count_arr[i - 1]\n",
        "    print(f\"Modified count array (cumulative counts): {count_arr}\")\n",
        "\n",
        "\n",
        "    output_arr = [0] * len(arr)  # Initialize output array\n",
        "    print(f\"Initialized output array: {output_arr}\")\n",
        "\n",
        "    # Build the output array\n",
        "    for i in range(len(arr) - 1, -1, -1):\n",
        "        output_arr[count_arr[arr[i] - min_element] - 1] = arr[i]\n",
        "        count_arr[arr[i] - min_element] -= 1  # Decrement count for next occurrence\n",
        "    print(f\"Output array after sorting: {output_arr}\")\n",
        "\n",
        "    print(f\"\\nAscending 👇🏻 Counting Sort Result 😇\\n{output_arr}\")\n",
        "    return output_arr\n"
      ],
      "metadata": {
        "id": "WMujs4IHnffS"
      },
      "execution_count": 68,
      "outputs": []
    },
    {
      "cell_type": "markdown",
      "source": [
        "# Main"
      ],
      "metadata": {
        "id": "SAY8LAOFXN2W"
      }
    },
    {
      "cell_type": "code",
      "source": [
        "# Main program\n",
        "# Loop to ensure valid input for choice\n",
        "while True:\n",
        "    choice = input(\"Enter 'L' for random letters or 'N' for random numbers: \").strip().upper()\n",
        "    if choice == 'N':\n",
        "        input_choice = get_input_choice(\"numbers\")\n",
        "        numbers = get_numbers(input_choice)\n",
        "        if numbers:\n",
        "            greetings(\"numbers\", numbers)\n",
        "            # measure_time_space(bubble_sort, numbers)\n",
        "            measure_time_space(insertion_sort, numbers)\n",
        "        break\n",
        "    elif choice == 'L':\n",
        "        input_choice = get_input_choice(\"letters\")\n",
        "        letters = get_letters(input_choice)\n",
        "        if letters:\n",
        "            greetings(\"letters\", letters)\n",
        "            # measure_time_space(bubble_sort, letters)\n",
        "            measure_time_space(insertion_sort, letters)\n",
        "        break\n",
        "    else:\n",
        "        print(\"Invalid choice. Please enter 'L' for letters or 'N' for numbers.\")"
      ],
      "metadata": {
        "colab": {
          "base_uri": "https://localhost:8080/"
        },
        "collapsed": true,
        "id": "zee0SQ-BWRrg",
        "outputId": "2f7f480b-74c9-4ada-d0c0-545ac0eac137"
      },
      "execution_count": 18,
      "outputs": [
        {
          "output_type": "stream",
          "name": "stdout",
          "text": [
            "Enter 'L' for random letters or 'N' for random numbers: n\n",
            "Enter 'M' to manually input numbers or 'R' for random: r\n",
            "How many random numbers do you want? 12\n",
            "Thank You.\n",
            "You have chosen to see an example with numbers 👏🏼. Let's explore. \n",
            "\n",
            "Input Array =====> [98, 76, 66, 74, 51, 47, 57, 97, 26, 28, 88, 29]\n",
            "\n",
            "Applying Insertion Sort 🙌🏻\n",
            "\n",
            "Iteration 1 : [Key=76]\n",
            "Shifting Val: [\u001b[4m98\u001b[0m, 98, 66, 74, 51, 47, 57, 97, 26, 28, 88, 29]\n",
            "Inserted Key: [\u001b[32m76\u001b[0m, 98, 66, 74, 51, 47, 57, 97, 26, 28, 88, 29]\n",
            "\n",
            "Iteration 2 : [Key=66]\n",
            "Shifting Val: [76, \u001b[4m98\u001b[0m, 98, 74, 51, 47, 57, 97, 26, 28, 88, 29]\n",
            "Shifting Val: [\u001b[4m76\u001b[0m, 76, 98, 74, 51, 47, 57, 97, 26, 28, 88, 29]\n",
            "Inserted Key: [\u001b[32m66\u001b[0m, 76, 98, 74, 51, 47, 57, 97, 26, 28, 88, 29]\n",
            "\n",
            "Iteration 3 : [Key=74]\n",
            "Shifting Val: [66, 76, \u001b[4m98\u001b[0m, 98, 51, 47, 57, 97, 26, 28, 88, 29]\n",
            "Shifting Val: [66, \u001b[4m76\u001b[0m, 76, 98, 51, 47, 57, 97, 26, 28, 88, 29]\n",
            "Inserted Key: [66, \u001b[32m74\u001b[0m, 76, 98, 51, 47, 57, 97, 26, 28, 88, 29]\n",
            "\n",
            "Iteration 4 : [Key=51]\n",
            "Shifting Val: [66, 74, 76, \u001b[4m98\u001b[0m, 98, 47, 57, 97, 26, 28, 88, 29]\n",
            "Shifting Val: [66, 74, \u001b[4m76\u001b[0m, 76, 98, 47, 57, 97, 26, 28, 88, 29]\n",
            "Shifting Val: [66, \u001b[4m74\u001b[0m, 74, 76, 98, 47, 57, 97, 26, 28, 88, 29]\n",
            "Shifting Val: [\u001b[4m66\u001b[0m, 66, 74, 76, 98, 47, 57, 97, 26, 28, 88, 29]\n",
            "Inserted Key: [\u001b[32m51\u001b[0m, 66, 74, 76, 98, 47, 57, 97, 26, 28, 88, 29]\n",
            "\n",
            "Iteration 5 : [Key=47]\n",
            "Shifting Val: [51, 66, 74, 76, \u001b[4m98\u001b[0m, 98, 57, 97, 26, 28, 88, 29]\n",
            "Shifting Val: [51, 66, 74, \u001b[4m76\u001b[0m, 76, 98, 57, 97, 26, 28, 88, 29]\n",
            "Shifting Val: [51, 66, \u001b[4m74\u001b[0m, 74, 76, 98, 57, 97, 26, 28, 88, 29]\n",
            "Shifting Val: [51, \u001b[4m66\u001b[0m, 66, 74, 76, 98, 57, 97, 26, 28, 88, 29]\n",
            "Shifting Val: [\u001b[4m51\u001b[0m, 51, 66, 74, 76, 98, 57, 97, 26, 28, 88, 29]\n",
            "Inserted Key: [\u001b[32m47\u001b[0m, 51, 66, 74, 76, 98, 57, 97, 26, 28, 88, 29]\n",
            "\n",
            "Iteration 6 : [Key=57]\n",
            "Shifting Val: [47, 51, 66, 74, 76, \u001b[4m98\u001b[0m, 98, 97, 26, 28, 88, 29]\n",
            "Shifting Val: [47, 51, 66, 74, \u001b[4m76\u001b[0m, 76, 98, 97, 26, 28, 88, 29]\n",
            "Shifting Val: [47, 51, 66, \u001b[4m74\u001b[0m, 74, 76, 98, 97, 26, 28, 88, 29]\n",
            "Shifting Val: [47, 51, \u001b[4m66\u001b[0m, 66, 74, 76, 98, 97, 26, 28, 88, 29]\n",
            "Inserted Key: [47, 51, \u001b[32m57\u001b[0m, 66, 74, 76, 98, 97, 26, 28, 88, 29]\n",
            "\n",
            "Iteration 7 : [Key=97]\n",
            "Shifting Val: [47, 51, 57, 66, 74, 76, \u001b[4m98\u001b[0m, 98, 26, 28, 88, 29]\n",
            "Inserted Key: [47, 51, 57, 66, 74, 76, \u001b[32m97\u001b[0m, 98, 26, 28, 88, 29]\n",
            "\n",
            "Iteration 8 : [Key=26]\n",
            "Shifting Val: [47, 51, 57, 66, 74, 76, 97, \u001b[4m98\u001b[0m, 98, 28, 88, 29]\n",
            "Shifting Val: [47, 51, 57, 66, 74, 76, \u001b[4m97\u001b[0m, 97, 98, 28, 88, 29]\n",
            "Shifting Val: [47, 51, 57, 66, 74, \u001b[4m76\u001b[0m, 76, 97, 98, 28, 88, 29]\n",
            "Shifting Val: [47, 51, 57, 66, \u001b[4m74\u001b[0m, 74, 76, 97, 98, 28, 88, 29]\n",
            "Shifting Val: [47, 51, 57, \u001b[4m66\u001b[0m, 66, 74, 76, 97, 98, 28, 88, 29]\n",
            "Shifting Val: [47, 51, \u001b[4m57\u001b[0m, 57, 66, 74, 76, 97, 98, 28, 88, 29]\n",
            "Shifting Val: [47, \u001b[4m51\u001b[0m, 51, 57, 66, 74, 76, 97, 98, 28, 88, 29]\n",
            "Shifting Val: [\u001b[4m47\u001b[0m, 47, 51, 57, 66, 74, 76, 97, 98, 28, 88, 29]\n",
            "Inserted Key: [\u001b[32m26\u001b[0m, 47, 51, 57, 66, 74, 76, 97, 98, 28, 88, 29]\n",
            "\n",
            "Iteration 9 : [Key=28]\n",
            "Shifting Val: [26, 47, 51, 57, 66, 74, 76, 97, \u001b[4m98\u001b[0m, 98, 88, 29]\n",
            "Shifting Val: [26, 47, 51, 57, 66, 74, 76, \u001b[4m97\u001b[0m, 97, 98, 88, 29]\n",
            "Shifting Val: [26, 47, 51, 57, 66, 74, \u001b[4m76\u001b[0m, 76, 97, 98, 88, 29]\n",
            "Shifting Val: [26, 47, 51, 57, 66, \u001b[4m74\u001b[0m, 74, 76, 97, 98, 88, 29]\n",
            "Shifting Val: [26, 47, 51, 57, \u001b[4m66\u001b[0m, 66, 74, 76, 97, 98, 88, 29]\n",
            "Shifting Val: [26, 47, 51, \u001b[4m57\u001b[0m, 57, 66, 74, 76, 97, 98, 88, 29]\n",
            "Shifting Val: [26, 47, \u001b[4m51\u001b[0m, 51, 57, 66, 74, 76, 97, 98, 88, 29]\n",
            "Shifting Val: [26, \u001b[4m47\u001b[0m, 47, 51, 57, 66, 74, 76, 97, 98, 88, 29]\n",
            "Inserted Key: [26, \u001b[32m28\u001b[0m, 47, 51, 57, 66, 74, 76, 97, 98, 88, 29]\n",
            "\n",
            "Iteration 10 : [Key=88]\n",
            "Shifting Val: [26, 28, 47, 51, 57, 66, 74, 76, 97, \u001b[4m98\u001b[0m, 98, 29]\n",
            "Shifting Val: [26, 28, 47, 51, 57, 66, 74, 76, \u001b[4m97\u001b[0m, 97, 98, 29]\n",
            "Inserted Key: [26, 28, 47, 51, 57, 66, 74, 76, \u001b[32m88\u001b[0m, 97, 98, 29]\n",
            "\n",
            "Iteration 11 : [Key=29]\n",
            "Shifting Val: [26, 28, 47, 51, 57, 66, 74, 76, 88, 97, \u001b[4m98\u001b[0m, 98]\n",
            "Shifting Val: [26, 28, 47, 51, 57, 66, 74, 76, 88, \u001b[4m97\u001b[0m, 97, 98]\n",
            "Shifting Val: [26, 28, 47, 51, 57, 66, 74, 76, \u001b[4m88\u001b[0m, 88, 97, 98]\n",
            "Shifting Val: [26, 28, 47, 51, 57, 66, 74, \u001b[4m76\u001b[0m, 76, 88, 97, 98]\n",
            "Shifting Val: [26, 28, 47, 51, 57, 66, \u001b[4m74\u001b[0m, 74, 76, 88, 97, 98]\n",
            "Shifting Val: [26, 28, 47, 51, 57, \u001b[4m66\u001b[0m, 66, 74, 76, 88, 97, 98]\n",
            "Shifting Val: [26, 28, 47, 51, \u001b[4m57\u001b[0m, 57, 66, 74, 76, 88, 97, 98]\n",
            "Shifting Val: [26, 28, 47, \u001b[4m51\u001b[0m, 51, 57, 66, 74, 76, 88, 97, 98]\n",
            "Shifting Val: [26, 28, \u001b[4m47\u001b[0m, 47, 51, 57, 66, 74, 76, 88, 97, 98]\n",
            "Inserted Key: [26, 28, \u001b[32m29\u001b[0m, 47, 51, 57, 66, 74, 76, 88, 97, 98]\n",
            "\n",
            "Ascending 👇🏻 Insertion Result 😇\n",
            "Output Array ====> [26, 28, 29, 47, 51, 57, 66, 74, 76, 88, 97, 98]\n",
            "\n",
            "Time Taken ⌛️: 0.000415 seconds\n",
            "\n"
          ]
        }
      ]
    }
  ]
}